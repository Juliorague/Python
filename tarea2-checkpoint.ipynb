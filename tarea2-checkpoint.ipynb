{
 "cells": [
  {
   "cell_type": "markdown",
   "id": "rubber-modeling",
   "metadata": {},
   "source": [
    "# Programación en Bioinformática y Biología de Sistemas\n",
    "# M.U. en Análisis de Datos Ómicos y Biología de Sistemas\n",
    "# Curso 2023/2024\n",
    "## Tarea 2: Algoritmos de alineamiento en programación dinámica\n",
    "### 2 puntos\n",
    "### Profesor: Ignacio Pérez Hurtado de Mendoza\n",
    "### perezh@us.es\n",
    "### http://www.cs.us.es/~ignacio"
   ]
  },
  {
   "cell_type": "markdown",
   "id": "political-alexander",
   "metadata": {},
   "source": [
    "# Introducción: El algoritmo de Smith-Waterman\n",
    "\n",
    "El algoritmo de **Smith-Waterman** resuelve el alineamiento local de dos secuencias aplicando programación dinámica. Es una variante del algoritmo de **Needleman-Wunsch**.\n",
    "\n",
    "## Entrada del algoritmo\n",
    "\n",
    "Como entrada del algoritmo tenemos:\n",
    "\n",
    "* Secuencia **s** a alinear.\n",
    "* Secuencia **t** a alinear.\n",
    "* Una matriz de substitución **m**.\n",
    "* Penalización por hueco **gap_penalty**.\n",
    "\n",
    "\n",
    "## Estructuras de datos y relaciones recursivas\n",
    "\n",
    "\n",
    "A continuación se describen las estructuras de datos y relaciones recursivas utilizadas en el algoritmo:\n",
    "\n",
    "### Estructuras de datos\n",
    "\n",
    "* Matriz de puntuación dinámica **punt** \n",
    "* Matriz de decisión **dec**\n",
    "\n",
    "Estas matrices tienen tantas filas como (len(**s**)+1) y tantas columnas como (len(**t**)+1).\n",
    "\n",
    "### Inicialización\n",
    "\n",
    "* La primera fila y primera columna de **punt** se inicializan al valor *0*.\n",
    "* La primera fila y primera columna de **dec** se inicializan al valor *4*.\n",
    "* **dec[0][0]** se inicializa a *0*\n",
    "\n",
    "### Relaciones recursivas\n",
    "\n",
    "* Para todo 1 <= i < len(s), 1<= j < len(t):\n",
    "  - punt[i][j] recibe el máximo de entre las siguientes posibilidades:\n",
    "    + punt[i-1][j-1] + m[(s[i-1],t[j-1])]\n",
    "    + punt[i-1][j] + gap_penalty\n",
    "    + punt[i][j-1] + gap_penalty\n",
    "    + 0\n",
    "  - dec[i][j] recibe el argumento máximo (np.argmax) de entre las anteriores posibilidades.\n",
    "\n",
    "## Valor del alineamiento local óptimo\n",
    "\n",
    "Se localiza el máximo en la matriz **punt**, ese será el valor del alineamiento local óptimo. \n",
    "\n",
    "## Traza inversa\n",
    "\n",
    "Para reconstruir el alineamiento, se realiza una traza inversa sobre la matriz **dec** a partir de la posición del máximo en la matriz **punt**. La traza inversa se realiza siguiendo el procedimiento visto en clase de teoría. Las secuencias alineadas se llaman **sp** y **tp**, que corresponden respectivamente a la secuencia **s** y a la secuencia **t** tras haber introducido los correspondientes huecos (símbolo guión **-**) de acuerdo a la traza inversa.\n",
    "\n",
    "\n",
    "## Salida de algoritmo\n",
    "\n",
    "El algoritmo debe devolver en una tupla:\n",
    "\n",
    "* La secuencia alineada **sp**.\n",
    "* La secuencia alineada **tp**.\n",
    "* El valor del alineamiento obtenido.\n",
    "\n",
    "\n"
   ]
  },
  {
   "cell_type": "code",
   "execution_count": 42,
   "id": "blessed-history",
   "metadata": {},
   "outputs": [],
   "source": [
    "from Bio.Align import substitution_matrices"
   ]
  },
  {
   "cell_type": "code",
   "execution_count": 43,
   "id": "ec609595",
   "metadata": {},
   "outputs": [],
   "source": [
    "# Cargo la matriz de substitución BLOSUM62 en una nueva variable a partir del subpaquete substitution_matrices de Bio.Align\n",
    "blosum62 = substitution_matrices.load(\"BLOSUM62\")"
   ]
  },
  {
   "cell_type": "markdown",
   "id": "twelve-immune",
   "metadata": {},
   "source": [
    "## Ejercicio 1\n",
    "\n",
    "Vamos a implementar el algoritmo de **Needleman-Wunsch** para poder luego hacer comparaciones entre alineamiento global y local. \n",
    "\n",
    "Implementar la función **globalAlignment** que recibe:\n",
    "\n",
    "* Secuencia **s** a alinear.\n",
    "* Secuencia **t** a alinear.\n",
    "* Una matriz de substitución **m**.\n",
    "* Penalización por hueco **gap_penalty**.\n",
    "\n",
    "La función debe realizar **un alineamiento global mediante la implementación del algoritmo Needleman-Wunsch** y devolver en una tupla:\n",
    "\n",
    "* La secuencia alineada **sp**.\n",
    "* La secuencia alineada **tp**.\n",
    "* El valor del alineamiento obtenido.\n",
    "\n",
    "Se permite usar código de las prácticas de la asignatura y se permite (y recomienda) implementar las funciones auxiliares que se estimen oportunas. \n",
    "\n",
    "Nota: No sería válido usar *pairwise2.global*.\n",
    "\n",
    "```\n",
    "In:\n",
    "globalAlignment('VIVALAVIDA','VIVALADAVIS',blosum62,-4)\n",
    "\n",
    "Out:\n",
    "('VIVALA-VIDA', 'VIVALADAVIS', 21.0)\n",
    "```\n"
   ]
  },
  {
   "cell_type": "code",
   "execution_count": 44,
   "id": "2add8520",
   "metadata": {},
   "outputs": [],
   "source": [
    "import numpy as np"
   ]
  },
  {
   "cell_type": "code",
   "execution_count": 59,
   "id": "3d31089b",
   "metadata": {},
   "outputs": [
    {
     "data": {
      "text/plain": [
       "([[0, -4, -8, -12, -16, -20, -24, -28, -32, -36, -40, -44],\n",
       "  [-4, 4.0, 0.0, -4.0, -8.0, -12.0, -16.0, -20.0, -24.0, -28.0, -32.0, -36.0],\n",
       "  [-8, 0.0, 8.0, 4.0, 0.0, -4.0, -8.0, -12.0, -16.0, -20.0, -24.0, -28.0],\n",
       "  [-12, -4.0, 4.0, 12.0, 8.0, 4.0, 0.0, -4.0, -8.0, -12.0, -16.0, -20.0],\n",
       "  [-16, -8.0, 0.0, 8.0, 16.0, 12.0, 8.0, 4.0, 0.0, -4.0, -8.0, -12.0],\n",
       "  [-20, -12.0, -4.0, 4.0, 12.0, 20.0, 16.0, 12.0, 8.0, 4.0, 0.0, -4.0],\n",
       "  [-24, -16.0, -8.0, 0.0, 8.0, 16.0, 24.0, 20.0, 16.0, 12.0, 8.0, 4.0],\n",
       "  [-28, -20.0, -12.0, -4.0, 4.0, 12.0, 20.0, 21.0, 20.0, 20.0, 16.0, 12.0],\n",
       "  [-32, -24.0, -16.0, -8.0, 0.0, 8.0, 16.0, 17.0, 20.0, 23.0, 24.0, 20.0],\n",
       "  [-36, -28.0, -20.0, -12.0, -4.0, 4.0, 12.0, 22.0, 18.0, 19.0, 20.0, 24.0],\n",
       "  [-40, -32.0, -24.0, -16.0, -8.0, 0.0, 8.0, 18.0, 26.0, 22.0, 18.0, 21.0]],\n",
       " [[0, 3, 3, 3, 3, 3, 3, 3, 3, 3, 3, 3],\n",
       "  [2, 1, 3, 1, 3, 3, 3, 3, 3, 1, 3, 3],\n",
       "  [2, 2, 1, 3, 3, 3, 3, 3, 3, 3, 1, 3],\n",
       "  [2, 1, 2, 1, 3, 3, 3, 3, 3, 1, 3, 3],\n",
       "  [2, 2, 2, 2, 1, 3, 1, 3, 1, 3, 3, 3],\n",
       "  [2, 2, 2, 2, 2, 1, 3, 3, 3, 3, 3, 3],\n",
       "  [2, 2, 2, 2, 1, 2, 1, 3, 1, 3, 3, 3],\n",
       "  [2, 1, 2, 1, 2, 2, 2, 1, 1, 1, 3, 3],\n",
       "  [2, 2, 1, 2, 2, 2, 2, 1, 1, 1, 1, 3],\n",
       "  [2, 2, 2, 2, 2, 2, 2, 1, 3, 2, 1, 1],\n",
       "  [2, 2, 2, 2, 1, 2, 1, 2, 1, 3, 1, 1]],\n",
       " 21.0)"
      ]
     },
     "execution_count": 59,
     "metadata": {},
     "output_type": "execute_result"
    }
   ],
   "source": [
    "def getGlobalTables(s, t, m, gap_penalty):\n",
    "    \n",
    "    punt = [] # Matriz de puntuación para almacenar la puntuación acumulada para cada posición\n",
    "    dec = [] # Matriz de decisión para almacenar las direcciones tomadas durante el alineamiento\n",
    "    globalvalue = 0\n",
    "    \n",
    "    for i in range(0, len(s) + 1): # Inicializo las tablas punt y dec con ceros\n",
    "        punt.append([0] * (len(t) + 1))\n",
    "        dec.append([0] * (len(t) + 1))\n",
    "        \n",
    "    g = 0\n",
    "    \n",
    "    for i in range(0, len(s) + 1): # Inicializo las primeras columnas con penalizaciones por huecos\n",
    "        punt[i][0] = g\n",
    "        g += gap_penalty\n",
    "        dec[i][0] = 2\n",
    "        \n",
    "    g = 0\n",
    "    \n",
    "    for j in range(0, len(t) + 1): # Inicializo las primeras filas con penalizaciones por huecos\n",
    "        punt[0][j] = g\n",
    "        g += gap_penalty\n",
    "        dec[0][j] = 3\n",
    "        \n",
    "    dec[0][0] = 0\n",
    "    \n",
    "    for i in range(0, len(s)): # Con estos bucles anidados relleno las tablas de puntuación y dinámica con los valores correspondientes\n",
    "        for j in range(0, len(t)): \n",
    "            value1 = punt[i][j] + m[(s[i], t[j])]\n",
    "            value2 = punt[i][j+1] + gap_penalty\n",
    "            value3 = punt[i+1][j] + gap_penalty\n",
    "            values = [value1, value2, value3]\n",
    "            globalvalue = punt[i+1][j+1] = max(values) # Para almacenar el valor total del alineamiento global\n",
    "            dec[i+1][j+1] = np.argmax(values) + 1\n",
    "            \n",
    "    return (punt, dec, globalvalue)\n",
    "\n",
    "getGlobalTables('VIVALAVIDA','VIVALADAVIS',blosum62,-4)"
   ]
  },
  {
   "cell_type": "code",
   "execution_count": 60,
   "id": "a2760b11",
   "metadata": {},
   "outputs": [],
   "source": [
    "def getGlobalTrace(dec):\n",
    "    \n",
    "    i = len(dec) - 1\n",
    "    j = len(dec[0]) - 1\n",
    "    trace = []\n",
    "    \n",
    "    while dec[i][j] != 0: # Recorro la trayectoria de forma inversa desde la última posición hasta la posición de inicio\n",
    "        trace.append(dec[i][j])\n",
    "        \n",
    "        if dec[i][j] == 1: # Para movimientos en diagonal\n",
    "            i -= 1\n",
    "            j -= 1\n",
    "        elif dec[i][j] == 2: # Para movimientos en vertical\n",
    "            i -= 1\n",
    "        else: # Esto sería dec[i][j] == 3, que significa movimiento horizontal\n",
    "            j -= 1\n",
    "            \n",
    "    trace.reverse() # Invierte la traza final para usarla en el orden correcto\n",
    "        \n",
    "    return trace"
   ]
  },
  {
   "cell_type": "code",
   "execution_count": 61,
   "id": "9cb7b09c",
   "metadata": {},
   "outputs": [
    {
     "data": {
      "text/plain": [
       "('VIVALA-VIDA', 'VIVALADAVIS', 21.0)"
      ]
     },
     "execution_count": 61,
     "metadata": {},
     "output_type": "execute_result"
    }
   ],
   "source": [
    "def globalAlignment(s, t, m, gap_penalty):\n",
    "    \n",
    "    punt, dec, globalvalue = getGlobalTables(s, t, m, gap_penalty)\n",
    "    trace = getGlobalTrace(dec)\n",
    "    \n",
    "    i = 0\n",
    "    j = 0\n",
    "    sp = \"\"\n",
    "    tp = \"\"\n",
    "    \n",
    "    for k in range(0, len(trace)): # Reconstruyo las secuencias alineadas en base a su trayectoria\n",
    "        if trace[k] == 1:\n",
    "            sp += s[i]\n",
    "            tp += t[j]\n",
    "            i += 1\n",
    "            j += 1\n",
    "        elif trace[k] == 2:\n",
    "            sp += s[i]\n",
    "            tp += '-'\n",
    "            i += 1\n",
    "        else:\n",
    "            sp += '-'\n",
    "            tp += t[j]\n",
    "            j += 1\n",
    "            \n",
    "    return (sp, tp, globalvalue)\n",
    "    \n",
    "globalAlignment('VIVALAVIDA', 'VIVALADAVIS', blosum62, -4)"
   ]
  },
  {
   "cell_type": "markdown",
   "id": "severe-membrane",
   "metadata": {},
   "source": [
    "## Ejercicio 2\n",
    "\n",
    "Implementar la función **localAlignment** que recibe:\n",
    "\n",
    "* Secuencia **s** a alinear.\n",
    "* Secuencia **t** a alinear.\n",
    "* Una matriz de substitución **m**.\n",
    "* Penalización por hueco **gap_penalty**.\n",
    "\n",
    "\n",
    "La función debe realizar **un alineamiento local mediante la implementación del algoritmo Smith-Waterman** y devolver en una tupla:\n",
    "\n",
    "* La secuencia alineada **sp**.\n",
    "* La secuencia alineada **tp**.\n",
    "* El valor del alineamiento obtenido.\n",
    "\n",
    "Se permite usar código de las prácticas de la asignatura y se permite (y recomienda) implementar las funciones auxiliares que se estimen oportunas. \n",
    "\n",
    "Nota: No sería válido usar *pairwise2.local*.\n",
    "\n",
    "```\n",
    "In:\n",
    "localAlignment('VIVALAVIDA','VIVALADAVIS',blosum62,-4)\n",
    "\n",
    "Out:\n",
    "('VIVALAVIDA', 'VIVALA--DA', 26.0)\n",
    "```\n"
   ]
  },
  {
   "cell_type": "code",
   "execution_count": 62,
   "id": "e6ee50c3",
   "metadata": {
    "scrolled": true
   },
   "outputs": [],
   "source": [
    "def getLocalTables(s, t, m, gap_penalty):\n",
    "    \n",
    "    punt = []\n",
    "    dec = []\n",
    "    \n",
    "    for i in range(0, len(s) + 1):\n",
    "        punt.append([0] * (len(t) + 1))\n",
    "        dec.append([0] * (len(t) + 1))\n",
    "    \n",
    "    for i in range(0, len(s) + 1): # La diferencia con el código de getGlobalTables es que aquí no aplico las penalizaciones por huecos\n",
    "        punt[i][0] = 0\n",
    "        dec[i][0] = 4\n",
    "    \n",
    "    for j in range(0, len(t) + 1): # Aquí tampoco aplico las penalizaciones\n",
    "        punt[0][j] = 0\n",
    "        dec[0][j] = 4\n",
    "        \n",
    "    dec[0][0] = 0\n",
    "    \n",
    "    for i in range(0, len(s)): \n",
    "        for j in range(0, len(t)): \n",
    "            \n",
    "            value1 = punt[i][j] + m[(s[i], t[j])]\n",
    "            value2 = punt[i][j+1] + gap_penalty\n",
    "            value3 = punt[i+1][j] + gap_penalty\n",
    "            value4 = 0\n",
    "            values = [value1, value2, value3, value4]\n",
    "            punt[i+1][j+1] = max(values)\n",
    "            dec[i+1][j+1] = np.argmax(values) + 1\n",
    "            \n",
    "    return (punt, dec)"
   ]
  },
  {
   "cell_type": "code",
   "execution_count": 63,
   "id": "32c37ae1",
   "metadata": {},
   "outputs": [],
   "source": [
    "def getLocalValue(punt):\n",
    "    \n",
    "    localvalue = 0\n",
    "    i_max = 0\n",
    "    j_max = 0\n",
    "    \n",
    "    for i in range(0, len(punt)):\n",
    "        for j in range(0, len(punt[0])):\n",
    "            if punt[i][j] > localvalue:\n",
    "                localvalue = punt[i][j] # Almaceno el valor máximo del a tabla de puntuación en la variable localvalue\n",
    "                i_max = i # Coordenadas de la posición correspondiente al valor máximo\n",
    "                j_max = j\n",
    "                \n",
    "    return (localvalue, i_max, j_max)"
   ]
  },
  {
   "cell_type": "code",
   "execution_count": 64,
   "id": "c3b88b52",
   "metadata": {},
   "outputs": [],
   "source": [
    "def getLocalTrace(dec):\n",
    "    \n",
    "    _, i, j = getLocalValue(punt) # En esta función utilizo las coordenadas del valor máximo obtenido antes para hacer la traza\n",
    "    trace = []\n",
    "    \n",
    "    while dec[i][j] != 0:\n",
    "        trace.append(dec[i][j])\n",
    "        \n",
    "        if dec[i][j] == 1:\n",
    "            i -= 1\n",
    "            j -= 1\n",
    "        elif dec[i][j] == 2:\n",
    "            i -= 1\n",
    "        else:\n",
    "            j -= 1\n",
    "            \n",
    "    trace.reverse()\n",
    "    \n",
    "    return trace"
   ]
  },
  {
   "cell_type": "code",
   "execution_count": 65,
   "id": "4d7f93e0",
   "metadata": {},
   "outputs": [
    {
     "data": {
      "text/plain": [
       "('VIVALAVIDA', 'VIVALA--DA', 26.0)"
      ]
     },
     "execution_count": 65,
     "metadata": {},
     "output_type": "execute_result"
    }
   ],
   "source": [
    "def localAlignment(s, t, m, gap_penalty):\n",
    "    \n",
    "    punt, dec = getLocalTables(s, t, m, gap_penalty)\n",
    "    trace = getLocalTrace(dec)\n",
    "    localvalue, _, _ = getLocalValue(punt)\n",
    "    \n",
    "    i = 0\n",
    "    j = 0\n",
    "    sp = \"\"\n",
    "    tp = \"\"\n",
    "    \n",
    "    for k in range(0, len(trace)):\n",
    "        if trace[k] == 1:\n",
    "            sp += s[i]\n",
    "            tp += t[j]\n",
    "            i += 1\n",
    "            j += 1\n",
    "        elif trace[k] == 2:\n",
    "            sp += s[i]\n",
    "            tp += \"-\"\n",
    "            i += 1\n",
    "        elif trace[k] == 3:\n",
    "            tp += \"-\"\n",
    "            sp += t[j]\n",
    "            j += 1\n",
    "        else:\n",
    "            sp += \"-\"\n",
    "            tp += \"-\"\n",
    "            \n",
    "    return (sp, tp, localvalue)\n",
    "    \n",
    "localAlignment('VIVALAVIDA', 'VIVALADAVIS', blosum62, -4)"
   ]
  },
  {
   "cell_type": "markdown",
   "id": "logical-legend",
   "metadata": {},
   "source": [
    "## Ejercicio 3\n",
    "\n",
    "Escribe una funcion **formatAlignment** que recibe una tupla representando un alineamiento tal como lo producen las funciones de los ejercicios anteriores e imprime por pantalla el alineamiento de forma estética.\n",
    "\n",
    "```\n",
    "In:\n",
    "alignment = globalAlignment('VIVALAVIDA','VIVALADAVIS',blosum62,-4)\n",
    "formatAlignment(alignment)\n",
    "\n",
    "Out:\n",
    "VIVALA-VIDA\n",
    "|||||| ....\n",
    "VIVALADAVIS\n",
    "Score: 21.0\n",
    "\n",
    "In:\n",
    "alignment = localAlignment('VIVALAVIDA','VIVALADAVIS',blosum62,-4)\n",
    "formatAlignment(alignment)\n",
    "\n",
    "Out:\n",
    "VIVALAVIDA\n",
    "||||||  ||\n",
    "VIVALA--DA\n",
    "Score: 26.0\n",
    "```"
   ]
  },
  {
   "cell_type": "code",
   "execution_count": 66,
   "id": "8b589a52",
   "metadata": {},
   "outputs": [
    {
     "name": "stdout",
     "output_type": "stream",
     "text": [
      "VIVALA-VIDA\n",
      "|||||| ....\n",
      "VIVALADAVIS\n",
      "Score: 21.0\n",
      "\n",
      "VIVALAVIDA\n",
      "||||||  ||\n",
      "VIVALA--DA\n",
      "Score: 26.0\n",
      "\n"
     ]
    }
   ],
   "source": [
    "def formatAlignment(alignment):\n",
    "    \n",
    "    sp, tp, score = alignment\n",
    "    \n",
    "    for letter in sp: \n",
    "        print(letter, end = '') # Muestro la primera secuencia alineada\n",
    "    \n",
    "    print()\n",
    "    \n",
    "    for i in range(len(sp)): # Muestro por pantalla los carácteres de alineación según coincidan las letras, no coincidan o haya un \"-\"\n",
    "        if sp[i] == tp[i]:\n",
    "            print('|', end = '')\n",
    "        elif sp[i] == '-' or tp[i] == '-' :\n",
    "            print(' ', end = '')\n",
    "        else:\n",
    "            print('.', end = '')\n",
    "    \n",
    "    print()\n",
    "    \n",
    "    for letter in tp:\n",
    "        print(letter, end = '') # Muestro la segunda secuencia alineada\n",
    "        \n",
    "    print()\n",
    "    \n",
    "    print(\"Score:\", score)\n",
    "    \n",
    "    print()\n",
    "\n",
    "# Ejemplo de uso con alineamiento global\n",
    "alignment = globalAlignment('VIVALAVIDA','VIVALADAVIS',blosum62,-4)\n",
    "formatAlignment(alignment)\n",
    "\n",
    "# Ejemplo de uso con alineamiento local\n",
    "alignment_local = localAlignment('VIVALAVIDA', 'VIVALADAVIS', blosum62, -4)\n",
    "formatAlignment(alignment_local)"
   ]
  },
  {
   "cell_type": "markdown",
   "id": "little-difficulty",
   "metadata": {},
   "source": [
    "## Ejercicio 4\n",
    "\n",
    "Pasos previos (no es necesario hacerlos con Python):\n",
    "\n",
    "1. Descarga de la NCBI la secuencia de la Glycoprotein S (Spike Protein) del virus del Covid-2 en un fichero FASTA.\n",
    "\n",
    "2. Repite la operación para secuencias de proteina S de otros coronavirus.\n",
    "\n",
    "3. Genera un fichero multifasta con todas las secuencias de la proteina S. La descripción de cada secuencia debe indicar el virus utilizado y el accesion number. Entregar este fichero junto con el resto de la tarea.\n",
    "\n",
    "\n",
    "Se pide (en Python):\n",
    "\n",
    "* Leer el fichero multifasta generado\n",
    "* Probar las funciones implementadas **globalAlignment** y **localAlignment** comparando la secuencia del Covid2 con la de los otros virus. Usar diferentes parámetros para la matriz de substitución y penalización por huecos.\n",
    "* Probar las correspondientes funciones del paquete **pairwise2** para realizar los mismos alineamientos.\n",
    "* Comentar los resultados."
   ]
  },
  {
   "cell_type": "code",
   "execution_count": 67,
   "id": "59481a5c",
   "metadata": {},
   "outputs": [],
   "source": [
    "from Bio import Entrez, Seq, SeqIO"
   ]
  },
  {
   "cell_type": "code",
   "execution_count": 68,
   "id": "ec540c36",
   "metadata": {
    "scrolled": true
   },
   "outputs": [
    {
     "name": "stdout",
     "output_type": "stream",
     "text": [
      "YP_009724390.1 surface glycoprotein [Severe acute respiratory syndrome coronavirus 2]\n",
      "MFVFLVLLPLVSSQCVNLTTRTQLPPAYTNSFTRGVYYPDKVFRSSVLHSTQDLFLPFFSNVTWFHAIHVSGTNGTKRFDNPVLPFNDGVYFASTEKSNIIRGWIFGTTLDSKTQSLLIVNNATNVVIKVCEFQFCNDPFLGVYYHKNNKSWMESEFRVYSSANNCTFEYVSQPFLMDLEGKQGNFKNLREFVFKNIDGYFKIYSKHTPINLVRDLPQGFSALEPLVDLPIGINITRFQTLLALHRSYLTPGDSSSGWTAGAAAYYVGYLQPRTFLLKYNENGTITDAVDCALDPLSETKCTLKSFTVEKGIYQTSNFRVQPTESIVRFPNITNLCPFGEVFNATRFASVYAWNRKRISNCVADYSVLYNSASFSTFKCYGVSPTKLNDLCFTNVYADSFVIRGDEVRQIAPGQTGKIADYNYKLPDDFTGCVIAWNSNNLDSKVGGNYNYLYRLFRKSNLKPFERDISTEIYQAGSTPCNGVEGFNCYFPLQSYGFQPTNGVGYQPYRVVVLSFELLHAPATVCGPKKSTNLVKNKCVNFNFNGLTGTGVLTESNKKFLPFQQFGRDIADTTDAVRDPQTLEILDITPCSFGGVSVITPGTNTSNQVAVLYQDVNCTEVPVAIHADQLTPTWRVYSTGSNVFQTRAGCLIGAEHVNNSYECDIPIGAGICASYQTQTNSPRRARSVASQSIIAYTMSLGAENSVAYSNNSIAIPTNFTISVTTEILPVSMTKTSVDCTMYICGDSTECSNLLLQYGSFCTQLNRALTGIAVEQDKNTQEVFAQVKQIYKTPPIKDFGGFNFSQILPDPSKPSKRSFIEDLLFNKVTLADAGFIKQYGDCLGDIAARDLICAQKFNGLTVLPPLLTDEMIAQYTSALLAGTITSGWTFGAGAALQIPFAMQMAYRFNGIGVTQNVLYENQKLIANQFNSAIGKIQDSLSSTASALGKLQDVVNQNAQALNTLVKQLSSNFGAISSVLNDILSRLDKVEAEVQIDRLITGRLQSLQTYVTQQLIRAAEIRASANLAATKMSECVLGQSKRVDFCGKGYHLMSFPQSAPHGVVFLHVTYVPAQEKNFTTAPAICHDGKAHFPREGVFVSNGTHWFVTQRNFYEPQIITTDNTFVSGNCDVVIGIVNNTVYDPLQPELDSFKEELDKYFKNHTSPDVDLGDISGINASVVNIQKEIDRLNEVAKNLNESLIDLQELGKYEQYIKWPWYIWLGFIAGLIAIVMVTIMLCCMTSCCSCLKGCCSCGSCCKFDEDDSEPVLKGVKLHYT\n",
      "\n",
      "YP_173238.1 spike glycoprotein [Human coronavirus HKU1]\n",
      "MLLIIFILPTTLAVIGDFNCTNFAINDLNTTVPRISEYVVDVSYGLGTYYILDRVYLNTTILFTGYFPKSGANFRDLSLKGTTYLSTLWYQKPFLSDFNNGIFSRVKNTKLYVNKTLYSEFSTIVIGSVFINNSYTIVVQPHNGVLEITACQYTMCEYPHTICKSKGSSRNESWHFDKSEPLCLFKKNFTYNVSTDWLYFHFYQERGTFYAYYADSGMPTTFLFSLYLGTLLSHYYVLPLTCNAISSNTDNETLQYWVTPLSKRQYLLKFDNRGVITNAVDCSSSFFSEIQCKTKSLLPNTGVYDLSGFTVKPVATVHRRIPDLPDCDIDKWLNNFNVPSPLNWERKIFSNCNFNLSTLLRLVHTDSFSCNNFDESKIYGSCFKSIVLDKFAIPNSRRSDLQLGSSGFLQSSNYKIDTTSSSCQLYYSLPAINVTINNYNPSSWNRRYGFNNFNLSSHSVVYSRYCFSVNNTFCPCAKPSFASSCKSHKPPSASCPIGTNYRSCESTTVLDHTDWCRCSCLPDPITAYDPRSCSQKKSLVGVGEHCAGFGVDEEKCGVLDGSYNVSCLCSTDAFLGWSYDTCVSNNRCNIFSNFILNGINSGTTCSNDLLQPNTEVFTDVCVDYDLYGITGQGIFKEVSAVYYNSWQNLLYDSNGNIIGFKDFVTNKTYNIFPCYAGRVSAAFHQNASSLALLYRNLKCSYVLNNISLTTQPYFDSYLGCVFNADNLTDYSVSSCALRMGSGFCVDYNSPSSSSSRRKRRSISASYRFVTFEPFNVSFVNDSIESVGGLYEIKIPTNFTIVGQEEFIQTNSPKVTIDCSLFVCSNYAACHDLLSEYGTFCDNINSILDEVNGLLDTTQLHVADTLMQGVTLSSNLNTNLHFDVDNINFKSLVGCLGPHCGSSSRSFFEDLLFDKVKLSDVGFVEAYNNCTGGSEIRDLLCVQSFNGIKVLPPILSESQISGYTTAATVAAMFPPWSAAAGIPFSLNVQYRINGLGVTMDVLNKNQKLIATAFNNALLSIQNGFSATNSALAKIQSVVNSNAQALNSLLQQLFNKFGAISSSLQEILSRLDALEAQVQIDRLINGRLTALNAYVSQQLSDISLVKFGAALAMEKVNECVKSQSPRINFCGNGNHILSLVQNAPYGLLFMHFSYKPISFKTVLVSPGLCISGDVGIAPKQGYFIKHNDHWMFTGSSYYYPEPISDKNVVFMNTCSVNFTKAPLVYLNHSVPKLSDFESELSHWFKNQTSIAPNLTLNLHTINATFLDLYYEMNLIQESIKSLNNSYINLKDIGTYEMYVKWPWYVWLLISFSFIIFLVLLFFICCCTGCGSACFSKCHNCCDEYGGHHDFVIKTSHDD\n",
      "\n",
      "YP_001039953.1 spike glycoprotein [Tylonycteris bat coronavirus HKU4]\n",
      "MTLLMCLLMSLLIFVRGCDSQFVDMSPASNTSECLESQVDAAAFSKLMWPYPIDPSKVDGIIYPLGRTYSNITLAYTGLFPLQGDLGSQYLYSVSHAVGHDGDPTKAYISNYSLLVNDFDNGFVVRIGAAANSTGTIVISPSVNTKIKKAYPAFILGSSLTNTSAGQPLYANYSLTIIPDGCGTVLHAFYCILKPRTVNRCPSGTGYVSYFIYETVHNDCQSTINRNASLNSFKSFFDLVNCTFFNSWDITADETKEWFGITQDTQGVHLYSSRKGDLYGGNMFRFATLPVYEGIKYYTVIPRSFRSKANKREAWAAFYVYKLHQLTYLLDFSVDGYIRRAIDCGHDDLSQLHCSYTSFEVDTGVYSVSSYEASATGTFIEQPNATECDFSPMLTGVAPQVYNFKRLVFSNCNYNLTKLLSLFAVDEFSCNGISPDSIARGCYSTLTVDYFAYPLSMKSYIRPGSAGNIPLYNYKQSFANPTCRVMASVLANVTITKPHAYGYISKCSRLTGANQDVETPLYINPGEYSICRDFSPGGFSEDGQVFKRTLTQFEGGGLLIGVGTRVPMTDNLQMSFIISVQYGTGTDSVCPMLDLGDSLTITNRLGKCVDYSLYGVTGRGVFQNCTAVGVKQQRFVYDSFDNLVGYYSDDGNYYCVRPCVSVPVSVIYDKSTNLHATLFGSVACEHVTTMMSQFSRLTQSNLRRRDSNIPLQTAVGCVIGLSNNSLVVSDCKLPLGQSLCAVPPVSTFRSYSASQFQLAVLNYTSPIVVTPINSSGFTAAIPTNFSFSVTQEYIETSIQKVTVDCKQYVCNGFTRCEKLLVEYGQFCSKINQALHGANLRQDESVYSLYSNIKTTSTQTLEYGLNGDFNLTLLQVPQIGGSSSSYRSAIEDLLFDKVTIADPGYMQGYDDCMKQGPQSARDLICAQYVSGYKVLPPLYDPNMEAAYTSSLLGSIAGAGWTAGLSSFAAIPFAQSMFYRLNGVGITQQVLSENQKLIANKFNQALGAMQTGFTTSNLAFSKVQDAVNANAQALSKLASELSNTFGAISSSISDILARLDTVEQDAQIDRLINGRLISLNAFVSQQLVRSETAARSAQLASDKVNECVKSQSKRNGFCGSGTHIVSFVVNAPNGFYFFHVGYVPTNYTNVTAAYGLCNNNNPPLCIAPIDGYFITNQTTTYSVDTEWYYTGSSFYKPEPITQANSRYVSSDVKFDKLENNLPPPLLENSTDVDFKDELEEFFKNVTSHGPNFAEISKINTTLLDLSDEMAMLQEVVKQLNDSYIDLKELGNYTYYNKWPWYVWLGFIAGLVALLLCVFFLLCCTGCGTSCLGKMKCKNCCDSYEEYDVEKIHVH\n",
      "\n",
      "YP_005352838.1 spike glycoprotein [White-eye coronavirus HKU16]\n",
      "MQRIILISTILYCARALTLADKMLDLLTFPGAHHYFRGDLQTLHSRISAESYSVNPYDQYNYQTDSDYYINKSVHLIAPLTNLTLPISGLHRSMQPLRVGCIFGASNKIDQGFTISGMTYPLAYCVPPFYQVTNVTYDAMRLLFAFADLNSTGDFLRINTKTMGMLNVSCSASPTPLGHQDADRTFYGYNKQLYCYLDTPAGMQYMGPLPANLTEITLFRTGQIYTNGFHLGTIPSELTYVYLDKLAFQNKTVCMMANLTDTLITLNHTVIQQVTYCEKDAVQALACQQSTHQLQDGFYSDPAPAVNNLPKTLVTLPKIAESSTLQINVSATYSYGSASGSIKLSYNGSSNNSHCVQTPYFKLEQNLVCSGGCSVRIETLTCPFDLNAVSNGMSFQQFCVSTVSGQCSMQAIVNTGQPWGYVTSTLYVTYVEGQSFTGTSSDQIEDLTVLHLDQCTSYTIYGVSGTGVITLSDLQLPHGITFRAANGELSAFKNTTTGDVYTIQPCSLPAQLAIIDSTIVGAITSTNESYGFSNTIVTPTFYYSTNATSNCTAPKISYGELGVCADGSIGAVSQLQDSKPSIVPLYTGEIEIPASFKLSVQTEYLQVQTEQVVIDCPKYVCNGNPRCLQLLAQYTSACSNIESALHSSAQLDSREITMMFQTSSQSVELANITNFQGDYNFSMILPTLPGKDRSAIEDLLFDKVVTNGLGTVDQDYKSCSKGIAVADLVCAQYYNGIMVLPGVVDAEKMAMYTGSLTGAMVFGGLTAAAAIPFSTAVQARLNYVALQTNVLQENQKILAESFNQAVGNISLALSNVNTAIQQTSEALLTVSNAINKIQTVVNQQGEALAHLTAQLSQNFQAISTSIQDIYNRLDQIQADQQVDRLITGRLAALNAYVTQLLNKLSQVRQSRILAEQKINECVKSQSSRYGFCGNGTHLFSLTQAAPNGIFFMHAVLVPQTFQPVVAYAGICVDGYGYSLQPQLVLYNLNDSYRITPRNMFEPRTPTQSVFIPLTTCSVDFVNVTANNVSIIIPDYVDVNKTVSDIINGLPNYSYPELSLDRFNHTILNLSQEIEDLQIRSQNLSATAELLQQYIDNLNNTLVDLEWLNRVETYLKWPWYIWLLIFLAIAAFATILVTIFLCTGCCGGCFGCCGGCFGLFSKKRRLSSEPTPVSFKLKEW\n",
      "\n"
     ]
    }
   ],
   "source": [
    "# Cargo el fichero multifasta y lo leo\n",
    "multi_fasta = list(SeqIO.parse(\"multifasta.fasta\", \"fasta\")) \n",
    "\n",
    "for e in multi_fasta:\n",
    "    print (e.description)\n",
    "    print (e.seq)\n",
    "    print ()"
   ]
  },
  {
   "cell_type": "code",
   "execution_count": 69,
   "id": "3bf57490",
   "metadata": {},
   "outputs": [],
   "source": [
    "# Cargo la matriz de substitución PAM250 en una nueva variable a partir del subpaquete substitution_matrices de Bio.Align\n",
    "pam250 = substitution_matrices.load(\"PAM250\")"
   ]
  },
  {
   "cell_type": "code",
   "execution_count": 1,
   "id": "13e67f68",
   "metadata": {},
   "outputs": [],
   "source": [
    "# Importación del paquete\n",
    "# https://biopython.org/docs/latest/api/Bio.pairwise2.html\n",
    "from Bio import pairwise2\n",
    "\n",
    "# Importo el método format_alignment para mostrar alineamientos por pantalla\n",
    "from Bio.pairwise2 import format_alignment"
   ]
  },
  {
   "cell_type": "code",
   "execution_count": null,
   "id": "8b274076",
   "metadata": {},
   "outputs": [],
   "source": [
    "# Como se puede ver a continuación para cada una de las distintas condiciones y comparaciones las funciones del paquete\n",
    "# pairwise2 dan las mismas puntuaciones de alineamiento que al usar las funciones globalAlignment y localAlignment\n",
    "# implementadas por mí, lo que me lleva a la conclusión de que he realizado corectamente estas funciones."
   ]
  },
  {
   "cell_type": "code",
   "execution_count": 71,
   "id": "9e6fc4dc",
   "metadata": {
    "scrolled": true
   },
   "outputs": [
    {
     "name": "stdout",
     "output_type": "stream",
     "text": [
      "Comparación global de las secuencias: YP_009724390.1 surface glycoprotein [Severe acute respiratory syndrome coronavirus 2] vs YP_173238.1 spike glycoprotein [Human coronavirus HKU1]\n",
      "Score: 2021.0\n",
      "\n",
      "Comparación global de las secuencias: YP_009724390.1 surface glycoprotein [Severe acute respiratory syndrome coronavirus 2] vs YP_001039953.1 spike glycoprotein [Tylonycteris bat coronavirus HKU4]\n",
      "Score: 2188.0\n",
      "\n",
      "Comparación global de las secuencias: YP_009724390.1 surface glycoprotein [Severe acute respiratory syndrome coronavirus 2] vs YP_005352838.1 spike glycoprotein [White-eye coronavirus HKU16]\n",
      "Score: 1443.0\n",
      "\n",
      "Comparación global de las secuencias usando pairwise2: YP_009724390.1 surface glycoprotein [Severe acute respiratory syndrome coronavirus 2] vs YP_173238.1 spike glycoprotein [Human coronavirus HKU1]\n",
      "Score: 2021.0\n",
      "\n",
      "Comparación global de las secuencias usando pairwise2: YP_009724390.1 surface glycoprotein [Severe acute respiratory syndrome coronavirus 2] vs YP_001039953.1 spike glycoprotein [Tylonycteris bat coronavirus HKU4]\n",
      "Score: 2188.0\n",
      "\n",
      "Comparación global de las secuencias usando pairwise2: YP_009724390.1 surface glycoprotein [Severe acute respiratory syndrome coronavirus 2] vs YP_005352838.1 spike glycoprotein [White-eye coronavirus HKU16]\n",
      "Score: 1443.0\n",
      "\n"
     ]
    }
   ],
   "source": [
    "for e in range(1, len(multi_fasta)):\n",
    "    print (\"Comparación global de las secuencias:\", multi_fasta[0].description, \"vs\", multi_fasta[e].description)\n",
    "    print (\"Score:\", globalAlignment(multi_fasta[0].seq, multi_fasta[e].seq, pam250, -4)[2])\n",
    "    print ()\n",
    "    \n",
    "for e in range(1, len(multi_fasta)):\n",
    "    print (\"Comparación global de las secuencias usando pairwise2:\", multi_fasta[0].description, \"vs\", multi_fasta[e].description)\n",
    "    print (\"Score:\", pairwise2.align.globalds(multi_fasta[0].seq, multi_fasta[e].seq, match_dict = pam250, open=-4, extend=-4, score_only=True))\n",
    "    print ()\n",
    "\n",
    "# Como se puede observar en los resultados la comparación que presenta mayor puntuación es la correspondiente al coronavirus\n",
    "# del murciélago, lo que significa que esta tiene una mayor similitud con la secuencia de la proteína S del Covid-2."
   ]
  },
  {
   "cell_type": "code",
   "execution_count": 72,
   "id": "ff1109b8",
   "metadata": {
    "scrolled": true
   },
   "outputs": [
    {
     "name": "stdout",
     "output_type": "stream",
     "text": [
      "Comparación global de las secuencias: YP_009724390.1 surface glycoprotein [Severe acute respiratory syndrome coronavirus 2] vs YP_173238.1 spike glycoprotein [Human coronavirus HKU1]\n",
      "Score: 1544.0\n",
      "\n",
      "Comparación global de las secuencias: YP_009724390.1 surface glycoprotein [Severe acute respiratory syndrome coronavirus 2] vs YP_001039953.1 spike glycoprotein [Tylonycteris bat coronavirus HKU4]\n",
      "Score: 1783.0\n",
      "\n",
      "Comparación global de las secuencias: YP_009724390.1 surface glycoprotein [Severe acute respiratory syndrome coronavirus 2] vs YP_005352838.1 spike glycoprotein [White-eye coronavirus HKU16]\n",
      "Score: 1111.0\n",
      "\n",
      "Comparación global de las secuencias usando pairwise2: YP_009724390.1 surface glycoprotein [Severe acute respiratory syndrome coronavirus 2] vs YP_173238.1 spike glycoprotein [Human coronavirus HKU1]\n",
      "Score: 1544.0\n",
      "\n",
      "Comparación global de las secuencias usando pairwise2: YP_009724390.1 surface glycoprotein [Severe acute respiratory syndrome coronavirus 2] vs YP_001039953.1 spike glycoprotein [Tylonycteris bat coronavirus HKU4]\n",
      "Score: 1783.0\n",
      "\n",
      "Comparación global de las secuencias usando pairwise2: YP_009724390.1 surface glycoprotein [Severe acute respiratory syndrome coronavirus 2] vs YP_005352838.1 spike glycoprotein [White-eye coronavirus HKU16]\n",
      "Score: 1111.0\n",
      "\n"
     ]
    }
   ],
   "source": [
    "for e in range(1, len(multi_fasta)):\n",
    "    print (\"Comparación global de las secuencias:\", multi_fasta[0].description, \"vs\", multi_fasta[e].description)\n",
    "    print (\"Score:\", globalAlignment(multi_fasta[0].seq, multi_fasta[e].seq, blosum62, -4)[2])\n",
    "    print ()\n",
    "    \n",
    "for e in range(1, len(multi_fasta)):\n",
    "    print (\"Comparación global de las secuencias usando pairwise2:\", multi_fasta[0].description, \"vs\", multi_fasta[e].description)\n",
    "    print (\"Score:\", pairwise2.align.globalds(multi_fasta[0].seq, multi_fasta[e].seq, match_dict = blosum62, open=-4, extend=-4, score_only=True))\n",
    "    print ()\n",
    "    \n",
    "# En este caso la proteína S que tiene mayor similitud vuelve a ser del mismo coronavirus, el del murciélago, al igual que \n",
    "# ocurre en el resto de condiciones tanto para el alineamiento local como el global, las matrices de substitución pam250 y \n",
    "# blosum62, y los distintos valores para las sustituciones por huecos.\n",
    "\n",
    "# Esos resultados tienen sentido porque como hemos visto estas dos proteínas son las más similares siendo más probable que\n",
    "# obtengan mayores puntuaciones tanto para los alineamientos globales como los locales.\n",
    "\n",
    "# Por otro lado se puede apreciar el cambio en las puntuaciones al utilizar distintas matrices de substitución, consiguiendo \n",
    "# la pam250 las mayores puntuaciones. Esto es debido a que la matriz blosum62 se utiliza para secuencias con menor tiempo de\n",
    "# divergencia evolutiva que las pam250, y se caracteriza por ser una matriz más restrictiva y específica, penalizando más \n",
    "# las sustituciones entre aminoácidos que son menos comunes en secuencias conservadas."
   ]
  },
  {
   "cell_type": "code",
   "execution_count": 73,
   "id": "1f4ee7e7",
   "metadata": {},
   "outputs": [
    {
     "name": "stdout",
     "output_type": "stream",
     "text": [
      "Comparación global de las secuencias: YP_009724390.1 surface glycoprotein [Severe acute respiratory syndrome coronavirus 2] vs YP_173238.1 spike glycoprotein [Human coronavirus HKU1]\n",
      "Score: 2117.0\n",
      "\n",
      "Comparación global de las secuencias: YP_009724390.1 surface glycoprotein [Severe acute respiratory syndrome coronavirus 2] vs YP_001039953.1 spike glycoprotein [Tylonycteris bat coronavirus HKU4]\n",
      "Score: 2301.0\n",
      "\n",
      "Comparación global de las secuencias: YP_009724390.1 surface glycoprotein [Severe acute respiratory syndrome coronavirus 2] vs YP_005352838.1 spike glycoprotein [White-eye coronavirus HKU16]\n",
      "Score: 1789.0\n",
      "\n",
      "Comparación global de las secuencias usando pairwise2: YP_009724390.1 surface glycoprotein [Severe acute respiratory syndrome coronavirus 2] vs YP_173238.1 spike glycoprotein [Human coronavirus HKU1]\n",
      "Score: 2117.0\n",
      "\n",
      "Comparación global de las secuencias usando pairwise2: YP_009724390.1 surface glycoprotein [Severe acute respiratory syndrome coronavirus 2] vs YP_001039953.1 spike glycoprotein [Tylonycteris bat coronavirus HKU4]\n",
      "Score: 2301.0\n",
      "\n",
      "Comparación global de las secuencias usando pairwise2: YP_009724390.1 surface glycoprotein [Severe acute respiratory syndrome coronavirus 2] vs YP_005352838.1 spike glycoprotein [White-eye coronavirus HKU16]\n",
      "Score: 1789.0\n",
      "\n"
     ]
    }
   ],
   "source": [
    "for e in range(1, len(multi_fasta)):\n",
    "    print (\"Comparación global de las secuencias:\", multi_fasta[0].description, \"vs\", multi_fasta[e].description)\n",
    "    print (\"Score:\", globalAlignment(multi_fasta[0].seq, multi_fasta[e].seq, blosum62, -2)[2])\n",
    "    print ()\n",
    "    \n",
    "for e in range(1, len(multi_fasta)):\n",
    "    print (\"Comparación global de las secuencias usando pairwise2:\", multi_fasta[0].description, \"vs\", multi_fasta[e].description)\n",
    "    print (\"Score:\", pairwise2.align.globalds(multi_fasta[0].seq, multi_fasta[e].seq, match_dict = blosum62, open=-2, extend=-2, score_only=True))\n",
    "    print ()\n",
    "    \n",
    "# Si nos fijamos, la diferencia con las funciones anteriores es que ahora disminuimos el valor de las penalizaciones, lo que\n",
    "# provoca un aumento en las puntuaciones."
   ]
  },
  {
   "cell_type": "code",
   "execution_count": 74,
   "id": "7135bfdd",
   "metadata": {},
   "outputs": [
    {
     "name": "stdout",
     "output_type": "stream",
     "text": [
      "Comparación local de las secuencias: YP_009724390.1 surface glycoprotein [Severe acute respiratory syndrome coronavirus 2] vs YP_173238.1 spike glycoprotein [Human coronavirus HKU1]\n",
      "Score: 2032.0\n",
      "\n",
      "Comparación local de las secuencias: YP_009724390.1 surface glycoprotein [Severe acute respiratory syndrome coronavirus 2] vs YP_001039953.1 spike glycoprotein [Tylonycteris bat coronavirus HKU4]\n",
      "Score: 2226.0\n",
      "\n",
      "Comparación local de las secuencias: YP_009724390.1 surface glycoprotein [Severe acute respiratory syndrome coronavirus 2] vs YP_005352838.1 spike glycoprotein [White-eye coronavirus HKU16]\n",
      "Score: 1492.0\n",
      "\n",
      "Comparación local de las secuencias usando pairwise2: YP_009724390.1 surface glycoprotein [Severe acute respiratory syndrome coronavirus 2] vs YP_173238.1 spike glycoprotein [Human coronavirus HKU1]\n",
      "Score: 2032.0\n",
      "\n",
      "Comparación local de las secuencias usando pairwise2: YP_009724390.1 surface glycoprotein [Severe acute respiratory syndrome coronavirus 2] vs YP_001039953.1 spike glycoprotein [Tylonycteris bat coronavirus HKU4]\n",
      "Score: 2226.0\n",
      "\n",
      "Comparación local de las secuencias usando pairwise2: YP_009724390.1 surface glycoprotein [Severe acute respiratory syndrome coronavirus 2] vs YP_005352838.1 spike glycoprotein [White-eye coronavirus HKU16]\n",
      "Score: 1492.0\n",
      "\n"
     ]
    }
   ],
   "source": [
    "for e in range(1, len(multi_fasta)):\n",
    "    print (\"Comparación local de las secuencias:\", multi_fasta[0].description, \"vs\", multi_fasta[e].description)\n",
    "    print (\"Score:\", localAlignment(multi_fasta[0].seq, multi_fasta[e].seq, pam250, -4)[2])\n",
    "    print ()\n",
    "    \n",
    "for e in range(1, len(multi_fasta)):\n",
    "    print (\"Comparación local de las secuencias usando pairwise2:\", multi_fasta[0].description, \"vs\", multi_fasta[e].description)\n",
    "    print (\"Score:\", pairwise2.align.localds(multi_fasta[0].seq, multi_fasta[e].seq, match_dict = pam250, open=-4, extend=-4, score_only=True))\n",
    "    print ()"
   ]
  },
  {
   "cell_type": "code",
   "execution_count": 76,
   "id": "9dd662e6",
   "metadata": {},
   "outputs": [
    {
     "name": "stdout",
     "output_type": "stream",
     "text": [
      "Comparación local de las secuencias: YP_009724390.1 surface glycoprotein [Severe acute respiratory syndrome coronavirus 2] vs YP_173238.1 spike glycoprotein [Human coronavirus HKU1]\n",
      "Score: 1550.0\n",
      "\n",
      "Comparación local de las secuencias: YP_009724390.1 surface glycoprotein [Severe acute respiratory syndrome coronavirus 2] vs YP_001039953.1 spike glycoprotein [Tylonycteris bat coronavirus HKU4]\n",
      "Score: 1832.0\n",
      "\n",
      "Comparación local de las secuencias: YP_009724390.1 surface glycoprotein [Severe acute respiratory syndrome coronavirus 2] vs YP_005352838.1 spike glycoprotein [White-eye coronavirus HKU16]\n",
      "Score: 1139.0\n",
      "\n",
      "Comparación local de las secuencias usando pairwise2: YP_009724390.1 surface glycoprotein [Severe acute respiratory syndrome coronavirus 2] vs YP_173238.1 spike glycoprotein [Human coronavirus HKU1]\n",
      "Score: 1550.0\n",
      "\n",
      "Comparación local de las secuencias usando pairwise2: YP_009724390.1 surface glycoprotein [Severe acute respiratory syndrome coronavirus 2] vs YP_001039953.1 spike glycoprotein [Tylonycteris bat coronavirus HKU4]\n",
      "Score: 1832.0\n",
      "\n",
      "Comparación local de las secuencias usando pairwise2: YP_009724390.1 surface glycoprotein [Severe acute respiratory syndrome coronavirus 2] vs YP_005352838.1 spike glycoprotein [White-eye coronavirus HKU16]\n",
      "Score: 1139.0\n",
      "\n"
     ]
    }
   ],
   "source": [
    "for e in range(1, len(multi_fasta)):\n",
    "    print (\"Comparación local de las secuencias:\", multi_fasta[0].description, \"vs\", multi_fasta[e].description)\n",
    "    print (\"Score:\", localAlignment(multi_fasta[0].seq, multi_fasta[e].seq, blosum62, -4)[2])\n",
    "    print ()\n",
    "    \n",
    "for e in range(1, len(multi_fasta)):\n",
    "    print (\"Comparación local de las secuencias usando pairwise2:\", multi_fasta[0].description, \"vs\", multi_fasta[e].description)\n",
    "    print (\"Score:\", pairwise2.align.localds(multi_fasta[0].seq, multi_fasta[e].seq, match_dict = blosum62, open=-4, extend=-4, score_only=True))\n",
    "    print ()"
   ]
  },
  {
   "cell_type": "code",
   "execution_count": 77,
   "id": "ebaeb531",
   "metadata": {},
   "outputs": [
    {
     "name": "stdout",
     "output_type": "stream",
     "text": [
      "Comparación local de las secuencias: YP_009724390.1 surface glycoprotein [Severe acute respiratory syndrome coronavirus 2] vs YP_173238.1 spike glycoprotein [Human coronavirus HKU1]\n",
      "Score: 2122.0\n",
      "\n",
      "Comparación local de las secuencias: YP_009724390.1 surface glycoprotein [Severe acute respiratory syndrome coronavirus 2] vs YP_001039953.1 spike glycoprotein [Tylonycteris bat coronavirus HKU4]\n",
      "Score: 2316.0\n",
      "\n",
      "Comparación local de las secuencias: YP_009724390.1 surface glycoprotein [Severe acute respiratory syndrome coronavirus 2] vs YP_005352838.1 spike glycoprotein [White-eye coronavirus HKU16]\n",
      "Score: 1795.0\n",
      "\n",
      "Comparación local de las secuencias usando pairwise2: YP_009724390.1 surface glycoprotein [Severe acute respiratory syndrome coronavirus 2] vs YP_173238.1 spike glycoprotein [Human coronavirus HKU1]\n",
      "Score: 2122.0\n",
      "\n",
      "Comparación local de las secuencias usando pairwise2: YP_009724390.1 surface glycoprotein [Severe acute respiratory syndrome coronavirus 2] vs YP_001039953.1 spike glycoprotein [Tylonycteris bat coronavirus HKU4]\n",
      "Score: 2316.0\n",
      "\n",
      "Comparación local de las secuencias usando pairwise2: YP_009724390.1 surface glycoprotein [Severe acute respiratory syndrome coronavirus 2] vs YP_005352838.1 spike glycoprotein [White-eye coronavirus HKU16]\n",
      "Score: 1795.0\n",
      "\n"
     ]
    }
   ],
   "source": [
    "for e in range(1, len(multi_fasta)):\n",
    "    print (\"Comparación local de las secuencias:\", multi_fasta[0].description, \"vs\", multi_fasta[e].description)\n",
    "    print (\"Score:\", localAlignment(multi_fasta[0].seq, multi_fasta[e].seq, blosum62, -2)[2])\n",
    "    print ()\n",
    "    \n",
    "for e in range(1, len(multi_fasta)):\n",
    "    print (\"Comparación local de las secuencias usando pairwise2:\", multi_fasta[0].description, \"vs\", multi_fasta[e].description)\n",
    "    print (\"Score:\", pairwise2.align.localds(multi_fasta[0].seq, multi_fasta[e].seq, match_dict = blosum62, open=-2, extend=-2, score_only=True))\n",
    "    print ()\n",
    "    \n",
    "# Como se puede apreciar en cuanto a la comparación entre mismas condiciones en alineamientos locales y globales, por lo \n",
    "# general en casi todas las condiciones probadas las puntuaciones de los alineamientos locales son mayores que las de los\n",
    "# globales. Se puede deber a que los locales tienden a dar puntuaciones más altas cuando se comparan secuencias con regiones \n",
    "# altamente conservadas, indicando que la proteína S tiene regiones muy conservadas entre los distintos tipos de coronavirus\n",
    "# comparados."
   ]
  }
 ],
 "metadata": {
  "kernelspec": {
   "display_name": "Python 3 (ipykernel)",
   "language": "python",
   "name": "python3"
  },
  "language_info": {
   "codemirror_mode": {
    "name": "ipython",
    "version": 3
   },
   "file_extension": ".py",
   "mimetype": "text/x-python",
   "name": "python",
   "nbconvert_exporter": "python",
   "pygments_lexer": "ipython3",
   "version": "3.11.5"
  }
 },
 "nbformat": 4,
 "nbformat_minor": 5
}
