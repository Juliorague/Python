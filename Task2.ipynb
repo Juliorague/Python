{
 "cells": [
  {
   "cell_type": "markdown",
   "id": "rubber-modeling",
   "metadata": {},
   "source": [
    "# Programming in Bioinformatics and Systems Biology\n",
    "# Master in Omics Data Analysis and Systems Biology\n",
    "# Course 2023/2024\n",
    "## Alignment Algorithms in Dynamic Programming"
   ]
  },
  {
   "cell_type": "markdown",
   "id": "political-alexander",
   "metadata": {},
   "source": [
    "# Introduction: The Smith-Waterman algorithm\n",
    "\n",
    "The **Smith-Waterman** algorithm solves the local alignment of two sequences by applying dynamic programming. It is a variant of the **Needleman-Wunsch** algorithm.\n",
    "\n",
    "## Algorithm input\n",
    "\n",
    "As input to the algorithm we have:\n",
    "\n",
    "* Sequence **s** to align.\n",
    "* Sequence **t** to be aligned.\n",
    "* A substitution matrix **m**.\n",
    "* Gap penalty **gap_penalty**.\n",
    "\n",
    "\n",
    "## Data structures and recursive relations\n",
    "\n",
    "\n",
    "The following describes the data structures and recursive relationships used in the algorithm:\n",
    "\n",
    "### Data structures\n",
    "\n",
    " \n",
    "* Decision matrix **dec**\n",
    "\n",
    "These matrices have as many rows as (len(**s**)+1) and as many columns as (len(**t**)+1).\n",
    "\n",
    "### Initialisation\n",
    "\n",
    "* The first row and first column of **punt** are initialised to the value *0*.\n",
    "* The first row and first column of **dec** are initialised to the value *4*.\n",
    "* **dec[0][0]** is initialized to *0*.\n",
    "\n",
    "### Recursive relationships\n",
    "\n",
    "* For all 1 <= i < len(s), 1<= j < len(t):\n",
    "  - punt[i][j] receives the maximum of among the following possibilities:\n",
    "    + punt[i-1][j-1] + m[(s[i-1],t[j-1])]\n",
    "    + punt[i-1][j] + gap_penalty\n",
    "    + punt[i][j-1] + gap_penalty\n",
    "    + 0\n",
    "  - dec[i][j] takes the maximum argument (np.argmax) from the above possibilities.\n",
    "\n",
    "## Value of the optimal local alignment\n",
    "\n",
    "The maximum is located in the **point** array, that will be the value of the optimal local alignment. \n",
    "\n",
    "## Inverse trace\n",
    "\n",
    "To reconstruct the alignment, an inverse trace is performed on the **dec** matrix from the position of the maximum in the **punt** matrix. The inverse trace is performed following the procedure seen in theory class. The aligned sequences are called **sp** and **tp**, which correspond respectively to the sequence **s** and the sequence **t** after having introduced the corresponding gaps (dash symbol **-**) according to the inverse trace.\n",
    "\n",
    "\n",
    "## Algorithm output\n",
    "\n",
    "The algorithm shall return in a tuple:\n",
    "\n",
    "* The aligned sequence **sp**.\n",
    "* The aligned sequence **tp**.\n",
    "* The value of the obtained alignment.\n",
    "\n",
    "\n"
   ]
  },
  {
   "cell_type": "code",
   "execution_count": 1,
   "id": "blessed-history",
   "metadata": {},
   "outputs": [],
   "source": [
    "from Bio.Align import substitution_matrices"
   ]
  },
  {
   "cell_type": "code",
   "execution_count": 2,
   "id": "ec609595",
   "metadata": {},
   "outputs": [],
   "source": [
    "# I load the substitution matrix BLOSUM62 into a new variable from the substitution_matrices subpackage of Bio.Align.\n",
    "blosum62 = substitution_matrices.load(\"BLOSUM62\")"
   ]
  },
  {
   "cell_type": "markdown",
   "id": "twelve-immune",
   "metadata": {},
   "source": [
    "## Exercise 1\n",
    "\n",
    "Let's implement the **Needleman-Wunsch** algorithm in order to make comparisons between global and local alignment. \n",
    "\n",
    "Implement the **globalAlignment** function that receives:\n",
    "\n",
    "* Sequence **s** to align.\n",
    "* Sequence **t** to align.\n",
    "* A substitution matrix **m**.\n",
    "* Gap penalty **gap_penalty**.\n",
    "\n",
    "The function shall perform **global alignment by implementing the Needleman-Wunsch algorithm** and return in a tuple:\n",
    "\n",
    "* The aligned sequence **sp**.\n",
    "* The aligned sequence **tp**.\n",
    "* The value of the obtained alignment.\n",
    "\n",
    "It is allowed to use code from the practices of the course and it is allowed (and recommended) to implement the auxiliary functions that are deemed appropriate. \n",
    "\n",
    "Note: It would not be valid to use *pairwise2.global*.\n",
    "\n",
    "```\n",
    "In:\n",
    "globalAlignment('VIVALAVIDA','VIVALADAVIS',blosum62,-4)\n",
    "\n",
    "Out:\n",
    "('VIVALA-VIDA', 'VIVALADAVIS', 21.0)\n",
    "```\n"
   ]
  },
  {
   "cell_type": "code",
   "execution_count": 3,
   "id": "2add8520",
   "metadata": {},
   "outputs": [],
   "source": [
    "import numpy as np"
   ]
  },
  {
   "cell_type": "code",
   "execution_count": 4,
   "id": "3d31089b",
   "metadata": {},
   "outputs": [
    {
     "data": {
      "text/plain": [
       "([[0, -4, -8, -12, -16, -20, -24, -28, -32, -36, -40, -44],\n",
       "  [-4, 4.0, 0.0, -4.0, -8.0, -12.0, -16.0, -20.0, -24.0, -28.0, -32.0, -36.0],\n",
       "  [-8, 0.0, 8.0, 4.0, 0.0, -4.0, -8.0, -12.0, -16.0, -20.0, -24.0, -28.0],\n",
       "  [-12, -4.0, 4.0, 12.0, 8.0, 4.0, 0.0, -4.0, -8.0, -12.0, -16.0, -20.0],\n",
       "  [-16, -8.0, 0.0, 8.0, 16.0, 12.0, 8.0, 4.0, 0.0, -4.0, -8.0, -12.0],\n",
       "  [-20, -12.0, -4.0, 4.0, 12.0, 20.0, 16.0, 12.0, 8.0, 4.0, 0.0, -4.0],\n",
       "  [-24, -16.0, -8.0, 0.0, 8.0, 16.0, 24.0, 20.0, 16.0, 12.0, 8.0, 4.0],\n",
       "  [-28, -20.0, -12.0, -4.0, 4.0, 12.0, 20.0, 21.0, 20.0, 20.0, 16.0, 12.0],\n",
       "  [-32, -24.0, -16.0, -8.0, 0.0, 8.0, 16.0, 17.0, 20.0, 23.0, 24.0, 20.0],\n",
       "  [-36, -28.0, -20.0, -12.0, -4.0, 4.0, 12.0, 22.0, 18.0, 19.0, 20.0, 24.0],\n",
       "  [-40, -32.0, -24.0, -16.0, -8.0, 0.0, 8.0, 18.0, 26.0, 22.0, 18.0, 21.0]],\n",
       " [[0, 3, 3, 3, 3, 3, 3, 3, 3, 3, 3, 3],\n",
       "  [2, 1, 3, 1, 3, 3, 3, 3, 3, 1, 3, 3],\n",
       "  [2, 2, 1, 3, 3, 3, 3, 3, 3, 3, 1, 3],\n",
       "  [2, 1, 2, 1, 3, 3, 3, 3, 3, 1, 3, 3],\n",
       "  [2, 2, 2, 2, 1, 3, 1, 3, 1, 3, 3, 3],\n",
       "  [2, 2, 2, 2, 2, 1, 3, 3, 3, 3, 3, 3],\n",
       "  [2, 2, 2, 2, 1, 2, 1, 3, 1, 3, 3, 3],\n",
       "  [2, 1, 2, 1, 2, 2, 2, 1, 1, 1, 3, 3],\n",
       "  [2, 2, 1, 2, 2, 2, 2, 1, 1, 1, 1, 3],\n",
       "  [2, 2, 2, 2, 2, 2, 2, 1, 3, 2, 1, 1],\n",
       "  [2, 2, 2, 2, 1, 2, 1, 2, 1, 3, 1, 1]],\n",
       " 21.0)"
      ]
     },
     "execution_count": 4,
     "metadata": {},
     "output_type": "execute_result"
    }
   ],
   "source": [
    "def getGlobalTables(s, t, m, gap_penalty):\n",
    "    \n",
    "    punt = [] # Score array to store the cumulative score for each position\n",
    "    dec = [] # Decision matrix to store the directions taken during alignment\n",
    "    \n",
    "    globalvalue = 0\n",
    "    \n",
    "    for i in range(0, len(s) + 1): # Initialise punt and dec tables with zeros\n",
    "        punt.append([0] * (len(t) + 1))\n",
    "        dec.append([0] * (len(t) + 1))\n",
    "        \n",
    "    g = 0\n",
    "    \n",
    "    for i in range(0, len(s) + 1): # I initialise the first columns with gap penalties\n",
    "        punt[i][0] = g\n",
    "        g += gap_penalty\n",
    "        dec[i][0] = 2\n",
    "        \n",
    "    g = 0\n",
    "    \n",
    "    for j in range(0, len(t) + 1): # # I initialise the first rows with penalty for gaps\n",
    "        punt[0][j] = g\n",
    "        g += gap_penalty\n",
    "        dec[0][j] = 3\n",
    "        \n",
    "    dec[0][0] = 0\n",
    "    \n",
    "    for i in range(0, len(s)): # With these nested loops I fill the score and pivot tables with the corresponding values\n",
    "        for j in range(0, len(t)): \n",
    "            value1 = punt[i][j] + m[(s[i], t[j])]\n",
    "            value2 = punt[i][j+1] + gap_penalty\n",
    "            value3 = punt[i+1][j] + gap_penalty\n",
    "            values = [value1, value2, value3]\n",
    "            globalvalue = punt[i+1][j+1] = max(values) # To store the total value of the global alignment\n",
    "            dec[i+1][j+1] = np.argmax(values) + 1\n",
    "            \n",
    "    return (punt, dec, globalvalue)\n",
    "\n",
    "getGlobalTables('VIVALAVIDA','VIVALADAVIS',blosum62,-4)"
   ]
  },
  {
   "cell_type": "code",
   "execution_count": 5,
   "id": "a2760b11",
   "metadata": {},
   "outputs": [],
   "source": [
    "def getGlobalTrace(dec):\n",
    "    \n",
    "    i = len(dec) - 1\n",
    "    j = len(dec[0]) - 1\n",
    "    trace = []\n",
    "    \n",
    "    while dec[i][j] != 0: # I traverse the trajectory backwards from the last position to the starting position.\n",
    "        trace.append(dec[i][j])\n",
    "        \n",
    "        if dec[i][j] == 1: # For diagonal movements\n",
    "            i -= 1\n",
    "            j -= 1\n",
    "        elif dec[i][j] == 2: # For vertical movements\n",
    "            i -= 1\n",
    "        else: # This would be dec[i][j] == 3, which means horizontal movement\n",
    "            j -= 1\n",
    "            \n",
    "    trace.reverse() # Reverse the final trace to use it in the correct order\n",
    "        \n",
    "    return trace"
   ]
  },
  {
   "cell_type": "code",
   "execution_count": 6,
   "id": "9cb7b09c",
   "metadata": {},
   "outputs": [
    {
     "data": {
      "text/plain": [
       "('VIVALA-VIDA', 'VIVALADAVIS', 21.0)"
      ]
     },
     "execution_count": 6,
     "metadata": {},
     "output_type": "execute_result"
    }
   ],
   "source": [
    "def globalAlignment(s, t, m, gap_penalty):\n",
    "    \n",
    "    punt, dec, globalvalue = getGlobalTables(s, t, m, gap_penalty)\n",
    "    trace = getGlobalTrace(dec)\n",
    "    \n",
    "    i = 0\n",
    "    j = 0\n",
    "    sp = \"\"\n",
    "    tp = \"\"\n",
    "    \n",
    "    for k in range(0, len(trace)): # I reconstruct the aligned sequences based on their trajectory\n",
    "        if trace[k] == 1:\n",
    "            sp += s[i]\n",
    "            tp += t[j]\n",
    "            i += 1\n",
    "            j += 1\n",
    "        elif trace[k] == 2:\n",
    "            sp += s[i]\n",
    "            tp += '-'\n",
    "            i += 1\n",
    "        else:\n",
    "            sp += '-'\n",
    "            tp += t[j]\n",
    "            j += 1\n",
    "            \n",
    "    return (sp, tp, globalvalue)\n",
    "    \n",
    "globalAlignment('VIVALAVIDA', 'VIVALADAVIS', blosum62, -4)"
   ]
  },
  {
   "cell_type": "markdown",
   "id": "severe-membrane",
   "metadata": {},
   "source": [
    "## Exercise 2\n",
    "\n",
    "Implement the **localAlignment** function that receives:\n",
    "\n",
    "* Sequence **s** to align.\n",
    "* Sequence **t** to align.\n",
    "* A substitution matrix **m**.\n",
    "* Gap penalty **gap_penalty**.\n",
    "\n",
    "\n",
    "The function shall perform **local alignment by implementing the Smith-Waterman** algorithm and return in a tuple:\n",
    "\n",
    "* The aligned sequence **sp**.\n",
    "* The aligned sequence **tp**.\n",
    "* The value of the obtained alignment.\n",
    "\n",
    "It is allowed to use code from the practices of the course and it is allowed (and recommended) to implement the auxiliary functions that are deemed appropriate. \n",
    "\n",
    "Note: It would not be valid to use *pairwise2.local*.\n",
    "\n",
    "```\n",
    "In:\n",
    "localAlignment('VIVALAVIDA','VIVALADAVIS',blosum62,-4)\n",
    "\n",
    "Out:\n",
    "('VIVALAVIDA', 'VIVALA--DA', 26.0)\n",
    "```\n"
   ]
  },
  {
   "cell_type": "code",
   "execution_count": 7,
   "id": "e6ee50c3",
   "metadata": {
    "scrolled": true
   },
   "outputs": [],
   "source": [
    "def getLocalTables(s, t, m, gap_penalty):\n",
    "    \n",
    "    punt = []\n",
    "    dec = []\n",
    "    \n",
    "    for i in range(0, len(s) + 1):\n",
    "        punt.append([0] * (len(t) + 1))\n",
    "        dec.append([0] * (len(t) + 1))\n",
    "    \n",
    "    for i in range(0, len(s) + 1): # The difference with the getGlobalTables code is that here I do not apply the gap penalties\n",
    "        punt[i][0] = 0\n",
    "        dec[i][0] = 4\n",
    "    \n",
    "    for j in range(0, len(t) + 1): # I do not apply penalties here either\n",
    "        punt[0][j] = 0\n",
    "        dec[0][j] = 4\n",
    "        \n",
    "    dec[0][0] = 0\n",
    "    \n",
    "    for i in range(0, len(s)): \n",
    "        for j in range(0, len(t)): \n",
    "            \n",
    "            value1 = punt[i][j] + m[(s[i], t[j])]\n",
    "            value2 = punt[i][j+1] + gap_penalty\n",
    "            value3 = punt[i+1][j] + gap_penalty\n",
    "            value4 = 0\n",
    "            values = [value1, value2, value3, value4]\n",
    "            punt[i+1][j+1] = max(values)\n",
    "            dec[i+1][j+1] = np.argmax(values) + 1\n",
    "            \n",
    "    return (punt, dec)"
   ]
  },
  {
   "cell_type": "code",
   "execution_count": 8,
   "id": "32c37ae1",
   "metadata": {},
   "outputs": [],
   "source": [
    "def getLocalValue(punt):\n",
    "    \n",
    "    localvalue = 0\n",
    "    i_max = 0\n",
    "    j_max = 0\n",
    "    \n",
    "    for i in range(0, len(punt)):\n",
    "        for j in range(0, len(punt[0])):\n",
    "            if punt[i][j] > localvalue:\n",
    "                localvalue = punt[i][j] # I store the maximum value of the scorecard in the variable localvalue\n",
    "                i_max = i # Co-ordinates of the position corresponding to the maximum value\n",
    "                j_max = j\n",
    "                \n",
    "    return (localvalue, i_max, j_max)"
   ]
  },
  {
   "cell_type": "code",
   "execution_count": 9,
   "id": "c3b88b52",
   "metadata": {},
   "outputs": [],
   "source": [
    "def getLocalTrace(dec, punt):\n",
    "    \n",
    "    _, i, j = getLocalValue(punt) # In this function I use the coordinates of the maximum value obtained before to make the trace\n",
    "    trace = []\n",
    "    \n",
    "    while dec[i][j] != 0:\n",
    "        trace.append(dec[i][j])\n",
    "        \n",
    "        if dec[i][j] == 1:\n",
    "            i -= 1\n",
    "            j -= 1\n",
    "        elif dec[i][j] == 2:\n",
    "            i -= 1\n",
    "        else:\n",
    "            j -= 1\n",
    "            \n",
    "    trace.reverse()\n",
    "    \n",
    "    return trace"
   ]
  },
  {
   "cell_type": "code",
   "execution_count": 10,
   "id": "4d7f93e0",
   "metadata": {},
   "outputs": [
    {
     "data": {
      "text/plain": [
       "('VIVALAVIDA', 'VIVALA--DA', 26.0)"
      ]
     },
     "execution_count": 10,
     "metadata": {},
     "output_type": "execute_result"
    }
   ],
   "source": [
    "def localAlignment(s, t, m, gap_penalty):\n",
    "    \n",
    "    punt, dec = getLocalTables(s, t, m, gap_penalty)\n",
    "    trace = getLocalTrace(dec, punt)\n",
    "    localvalue, _, _ = getLocalValue(punt)\n",
    "    \n",
    "    i = 0\n",
    "    j = 0\n",
    "    sp = \"\"\n",
    "    tp = \"\"\n",
    "    \n",
    "    for k in range(0, len(trace)):\n",
    "        if trace[k] == 1:\n",
    "            sp += s[i]\n",
    "            tp += t[j]\n",
    "            i += 1\n",
    "            j += 1\n",
    "        elif trace[k] == 2:\n",
    "            sp += s[i]\n",
    "            tp += \"-\"\n",
    "            i += 1\n",
    "        elif trace[k] == 3:\n",
    "            tp += \"-\"\n",
    "            sp += t[j]\n",
    "            j += 1\n",
    "        else:\n",
    "            sp += \"-\"\n",
    "            tp += \"-\"\n",
    "            \n",
    "    return (sp, tp, localvalue)\n",
    "    \n",
    "localAlignment('VIVALAVIDA', 'VIVALADAVIS', blosum62, -4)"
   ]
  },
  {
   "cell_type": "markdown",
   "id": "logical-legend",
   "metadata": {},
   "source": [
    "## Exercise 3\n",
    "\n",
    "Write a **formatAlignment** function that receives a tuple representing an alignment as produced by the functions in the previous exercises and prints the alignment on the screen in an aesthetically pleasing way.\n",
    "\n",
    "```\n",
    "In:\n",
    "alignment = globalAlignment('VIVALAVIDA','VIVALADAVIS',blosum62,-4)\n",
    "formatAlignment(alignment)\n",
    "\n",
    "Out:\n",
    "VIVALA-VIDA\n",
    "|||||| ....\n",
    "VIVALADAVIS\n",
    "Score: 21.0\n",
    "\n",
    "In:\n",
    "alignment = localAlignment('VIVALAVIDA','VIVALADAVIS',blosum62,-4)\n",
    "formatAlignment(alignment)\n",
    "\n",
    "Out:\n",
    "VIVALAVIDA\n",
    "||||||  ||\n",
    "VIVALA--DA\n",
    "Score: 26.0\n",
    "```"
   ]
  },
  {
   "cell_type": "code",
   "execution_count": 11,
   "id": "8b589a52",
   "metadata": {},
   "outputs": [
    {
     "name": "stdout",
     "output_type": "stream",
     "text": [
      "VIVALA-VIDA\n",
      "|||||| ....\n",
      "VIVALADAVIS\n",
      "Score: 21.0\n",
      "\n",
      "VIVALAVIDA\n",
      "||||||  ||\n",
      "VIVALA--DA\n",
      "Score: 26.0\n",
      "\n"
     ]
    }
   ],
   "source": [
    "def formatAlignment(alignment):\n",
    "    \n",
    "    sp, tp, score = alignment\n",
    "    \n",
    "    for letter in sp: \n",
    "        print(letter, end = '') # I show the first aligned sequence\n",
    "    \n",
    "    print()\n",
    "    \n",
    "    for i in range(len(sp)): # I display the alignment characters according to whether the letters match, do not match or there is a \"-\"\n",
    "        if sp[i] == tp[i]:\n",
    "            print('|', end = '')\n",
    "        elif sp[i] == '-' or tp[i] == '-' :\n",
    "            print(' ', end = '')\n",
    "        else:\n",
    "            print('.', end = '')\n",
    "    \n",
    "    print()\n",
    "    \n",
    "    for letter in tp:\n",
    "        print(letter, end = '') # I show the second aligned sequence\n",
    "        \n",
    "    print()\n",
    "    \n",
    "    print(\"Score:\", score)\n",
    "    \n",
    "    print()\n",
    "\n",
    "# Example of use with global alignment\n",
    "alignment = globalAlignment('VIVALAVIDA','VIVALADAVIS',blosum62,-4)\n",
    "formatAlignment(alignment)\n",
    "\n",
    "# Example of use with local alignment\n",
    "alignment_local = localAlignment('VIVALAVIDA', 'VIVALADAVIS', blosum62, -4)\n",
    "formatAlignment(alignment_local)"
   ]
  },
  {
   "cell_type": "markdown",
   "id": "little-difficulty",
   "metadata": {},
   "source": [
    "## Exercise 4\n",
    "\n",
    "Previous steps (it is not necessary to do them with Python):\n",
    "\n",
    "1. Download from NCBI the sequence of the Glycoprotein S (Spike Protein) of the Covid-2 virus in a FASTA file.\n",
    "\n",
    "2. Repeat the operation for S-protein sequences of other coronaviruses.\n",
    "\n",
    "Generate a multi-fasta file with all S-protein sequences. The description of each sequence should indicate the virus used and the accession number. Submit this file together with the rest of the task.\n",
    "\n",
    "\n",
    "You are asked to (in Python):\n",
    "\n",
    "* Read the generated multi-fasta file\n",
    "* Test the implemented functions **globalAlignment** and **localAlignment** by comparing the Covid2 sequence with that of the other viruses. Use different parameters for the substitution matrix and penalty for gaps.\n",
    "* Test the corresponding functions of the **pairwise2** package to perform the same alignments.\n",
    "* Comment on the results."
   ]
  },
  {
   "cell_type": "code",
   "execution_count": 12,
   "id": "59481a5c",
   "metadata": {},
   "outputs": [],
   "source": [
    "from Bio import Entrez, Seq, SeqIO"
   ]
  },
  {
   "cell_type": "code",
   "execution_count": 13,
   "id": "ec540c36",
   "metadata": {
    "scrolled": true
   },
   "outputs": [
    {
     "name": "stdout",
     "output_type": "stream",
     "text": [
      "YP_009724390.1 surface glycoprotein [Severe acute respiratory syndrome coronavirus 2]\n",
      "MFVFLVLLPLVSSQCVNLTTRTQLPPAYTNSFTRGVYYPDKVFRSSVLHSTQDLFLPFFSNVTWFHAIHVSGTNGTKRFDNPVLPFNDGVYFASTEKSNIIRGWIFGTTLDSKTQSLLIVNNATNVVIKVCEFQFCNDPFLGVYYHKNNKSWMESEFRVYSSANNCTFEYVSQPFLMDLEGKQGNFKNLREFVFKNIDGYFKIYSKHTPINLVRDLPQGFSALEPLVDLPIGINITRFQTLLALHRSYLTPGDSSSGWTAGAAAYYVGYLQPRTFLLKYNENGTITDAVDCALDPLSETKCTLKSFTVEKGIYQTSNFRVQPTESIVRFPNITNLCPFGEVFNATRFASVYAWNRKRISNCVADYSVLYNSASFSTFKCYGVSPTKLNDLCFTNVYADSFVIRGDEVRQIAPGQTGKIADYNYKLPDDFTGCVIAWNSNNLDSKVGGNYNYLYRLFRKSNLKPFERDISTEIYQAGSTPCNGVEGFNCYFPLQSYGFQPTNGVGYQPYRVVVLSFELLHAPATVCGPKKSTNLVKNKCVNFNFNGLTGTGVLTESNKKFLPFQQFGRDIADTTDAVRDPQTLEILDITPCSFGGVSVITPGTNTSNQVAVLYQDVNCTEVPVAIHADQLTPTWRVYSTGSNVFQTRAGCLIGAEHVNNSYECDIPIGAGICASYQTQTNSPRRARSVASQSIIAYTMSLGAENSVAYSNNSIAIPTNFTISVTTEILPVSMTKTSVDCTMYICGDSTECSNLLLQYGSFCTQLNRALTGIAVEQDKNTQEVFAQVKQIYKTPPIKDFGGFNFSQILPDPSKPSKRSFIEDLLFNKVTLADAGFIKQYGDCLGDIAARDLICAQKFNGLTVLPPLLTDEMIAQYTSALLAGTITSGWTFGAGAALQIPFAMQMAYRFNGIGVTQNVLYENQKLIANQFNSAIGKIQDSLSSTASALGKLQDVVNQNAQALNTLVKQLSSNFGAISSVLNDILSRLDKVEAEVQIDRLITGRLQSLQTYVTQQLIRAAEIRASANLAATKMSECVLGQSKRVDFCGKGYHLMSFPQSAPHGVVFLHVTYVPAQEKNFTTAPAICHDGKAHFPREGVFVSNGTHWFVTQRNFYEPQIITTDNTFVSGNCDVVIGIVNNTVYDPLQPELDSFKEELDKYFKNHTSPDVDLGDISGINASVVNIQKEIDRLNEVAKNLNESLIDLQELGKYEQYIKWPWYIWLGFIAGLIAIVMVTIMLCCMTSCCSCLKGCCSCGSCCKFDEDDSEPVLKGVKLHYT\n",
      "\n",
      "YP_173238.1 spike glycoprotein [Human coronavirus HKU1]\n",
      "MLLIIFILPTTLAVIGDFNCTNFAINDLNTTVPRISEYVVDVSYGLGTYYILDRVYLNTTILFTGYFPKSGANFRDLSLKGTTYLSTLWYQKPFLSDFNNGIFSRVKNTKLYVNKTLYSEFSTIVIGSVFINNSYTIVVQPHNGVLEITACQYTMCEYPHTICKSKGSSRNESWHFDKSEPLCLFKKNFTYNVSTDWLYFHFYQERGTFYAYYADSGMPTTFLFSLYLGTLLSHYYVLPLTCNAISSNTDNETLQYWVTPLSKRQYLLKFDNRGVITNAVDCSSSFFSEIQCKTKSLLPNTGVYDLSGFTVKPVATVHRRIPDLPDCDIDKWLNNFNVPSPLNWERKIFSNCNFNLSTLLRLVHTDSFSCNNFDESKIYGSCFKSIVLDKFAIPNSRRSDLQLGSSGFLQSSNYKIDTTSSSCQLYYSLPAINVTINNYNPSSWNRRYGFNNFNLSSHSVVYSRYCFSVNNTFCPCAKPSFASSCKSHKPPSASCPIGTNYRSCESTTVLDHTDWCRCSCLPDPITAYDPRSCSQKKSLVGVGEHCAGFGVDEEKCGVLDGSYNVSCLCSTDAFLGWSYDTCVSNNRCNIFSNFILNGINSGTTCSNDLLQPNTEVFTDVCVDYDLYGITGQGIFKEVSAVYYNSWQNLLYDSNGNIIGFKDFVTNKTYNIFPCYAGRVSAAFHQNASSLALLYRNLKCSYVLNNISLTTQPYFDSYLGCVFNADNLTDYSVSSCALRMGSGFCVDYNSPSSSSSRRKRRSISASYRFVTFEPFNVSFVNDSIESVGGLYEIKIPTNFTIVGQEEFIQTNSPKVTIDCSLFVCSNYAACHDLLSEYGTFCDNINSILDEVNGLLDTTQLHVADTLMQGVTLSSNLNTNLHFDVDNINFKSLVGCLGPHCGSSSRSFFEDLLFDKVKLSDVGFVEAYNNCTGGSEIRDLLCVQSFNGIKVLPPILSESQISGYTTAATVAAMFPPWSAAAGIPFSLNVQYRINGLGVTMDVLNKNQKLIATAFNNALLSIQNGFSATNSALAKIQSVVNSNAQALNSLLQQLFNKFGAISSSLQEILSRLDALEAQVQIDRLINGRLTALNAYVSQQLSDISLVKFGAALAMEKVNECVKSQSPRINFCGNGNHILSLVQNAPYGLLFMHFSYKPISFKTVLVSPGLCISGDVGIAPKQGYFIKHNDHWMFTGSSYYYPEPISDKNVVFMNTCSVNFTKAPLVYLNHSVPKLSDFESELSHWFKNQTSIAPNLTLNLHTINATFLDLYYEMNLIQESIKSLNNSYINLKDIGTYEMYVKWPWYVWLLISFSFIIFLVLLFFICCCTGCGSACFSKCHNCCDEYGGHHDFVIKTSHDD\n",
      "\n",
      "YP_001039953.1 spike glycoprotein [Tylonycteris bat coronavirus HKU4]\n",
      "MTLLMCLLMSLLIFVRGCDSQFVDMSPASNTSECLESQVDAAAFSKLMWPYPIDPSKVDGIIYPLGRTYSNITLAYTGLFPLQGDLGSQYLYSVSHAVGHDGDPTKAYISNYSLLVNDFDNGFVVRIGAAANSTGTIVISPSVNTKIKKAYPAFILGSSLTNTSAGQPLYANYSLTIIPDGCGTVLHAFYCILKPRTVNRCPSGTGYVSYFIYETVHNDCQSTINRNASLNSFKSFFDLVNCTFFNSWDITADETKEWFGITQDTQGVHLYSSRKGDLYGGNMFRFATLPVYEGIKYYTVIPRSFRSKANKREAWAAFYVYKLHQLTYLLDFSVDGYIRRAIDCGHDDLSQLHCSYTSFEVDTGVYSVSSYEASATGTFIEQPNATECDFSPMLTGVAPQVYNFKRLVFSNCNYNLTKLLSLFAVDEFSCNGISPDSIARGCYSTLTVDYFAYPLSMKSYIRPGSAGNIPLYNYKQSFANPTCRVMASVLANVTITKPHAYGYISKCSRLTGANQDVETPLYINPGEYSICRDFSPGGFSEDGQVFKRTLTQFEGGGLLIGVGTRVPMTDNLQMSFIISVQYGTGTDSVCPMLDLGDSLTITNRLGKCVDYSLYGVTGRGVFQNCTAVGVKQQRFVYDSFDNLVGYYSDDGNYYCVRPCVSVPVSVIYDKSTNLHATLFGSVACEHVTTMMSQFSRLTQSNLRRRDSNIPLQTAVGCVIGLSNNSLVVSDCKLPLGQSLCAVPPVSTFRSYSASQFQLAVLNYTSPIVVTPINSSGFTAAIPTNFSFSVTQEYIETSIQKVTVDCKQYVCNGFTRCEKLLVEYGQFCSKINQALHGANLRQDESVYSLYSNIKTTSTQTLEYGLNGDFNLTLLQVPQIGGSSSSYRSAIEDLLFDKVTIADPGYMQGYDDCMKQGPQSARDLICAQYVSGYKVLPPLYDPNMEAAYTSSLLGSIAGAGWTAGLSSFAAIPFAQSMFYRLNGVGITQQVLSENQKLIANKFNQALGAMQTGFTTSNLAFSKVQDAVNANAQALSKLASELSNTFGAISSSISDILARLDTVEQDAQIDRLINGRLISLNAFVSQQLVRSETAARSAQLASDKVNECVKSQSKRNGFCGSGTHIVSFVVNAPNGFYFFHVGYVPTNYTNVTAAYGLCNNNNPPLCIAPIDGYFITNQTTTYSVDTEWYYTGSSFYKPEPITQANSRYVSSDVKFDKLENNLPPPLLENSTDVDFKDELEEFFKNVTSHGPNFAEISKINTTLLDLSDEMAMLQEVVKQLNDSYIDLKELGNYTYYNKWPWYVWLGFIAGLVALLLCVFFLLCCTGCGTSCLGKMKCKNCCDSYEEYDVEKIHVH\n",
      "\n"
     ]
    }
   ],
   "source": [
    "# I load the multifasta file and read it\n",
    "multi_fasta = list(SeqIO.parse(\"multifasta.fasta\", \"fasta\")) \n",
    "\n",
    "for e in multi_fasta:\n",
    "    print (e.description)\n",
    "    print (e.seq)\n",
    "    print ()"
   ]
  },
  {
   "cell_type": "code",
   "execution_count": 14,
   "id": "3bf57490",
   "metadata": {},
   "outputs": [],
   "source": [
    "# I load the substitution matrix PAM250 into a new variable from the substitution_matrices subpackage of Bio.Align.\n",
    "pam250 = substitution_matrices.load(\"PAM250\")"
   ]
  },
  {
   "cell_type": "code",
   "execution_count": 15,
   "id": "13e67f68",
   "metadata": {},
   "outputs": [],
   "source": [
    "# Importing the package\n",
    "# https://biopython.org/docs/latest/api/Bio.pairwise2.html\n",
    "from Bio import pairwise2\n",
    "\n",
    "# Import format_alignment method to display alignments on screen\n",
    "from Bio.pairwise2 import format_alignment"
   ]
  },
  {
   "cell_type": "code",
   "execution_count": null,
   "id": "8b274076",
   "metadata": {},
   "outputs": [],
   "source": [
    "# As can be seen below for each of the different conditions and comparisons the functions of the pairwise2 package\n",
    "# give the same alignment scores as when using the globalAlignment and localAlignment functions implemented by me,\n",
    "# which leads me to the conclusion that I have performed these functions correctly."
   ]
  },
  {
   "cell_type": "code",
   "execution_count": 16,
   "id": "9e6fc4dc",
   "metadata": {
    "scrolled": true
   },
   "outputs": [
    {
     "name": "stdout",
     "output_type": "stream",
     "text": [
      "Overall comparison of the sequences: YP_009724390.1 surface glycoprotein [Severe acute respiratory syndrome coronavirus 2] vs YP_173238.1 spike glycoprotein [Human coronavirus HKU1]\n",
      "Score: 2021.0\n",
      "\n",
      "Overall comparison of the sequences: YP_009724390.1 surface glycoprotein [Severe acute respiratory syndrome coronavirus 2] vs YP_001039953.1 spike glycoprotein [Tylonycteris bat coronavirus HKU4]\n",
      "Score: 2188.0\n",
      "\n",
      "Overall comparison of the sequences using pairwise2: YP_009724390.1 surface glycoprotein [Severe acute respiratory syndrome coronavirus 2] vs YP_173238.1 spike glycoprotein [Human coronavirus HKU1]\n",
      "Score: 2021.0\n",
      "\n",
      "Overall comparison of the sequences using pairwise2: YP_009724390.1 surface glycoprotein [Severe acute respiratory syndrome coronavirus 2] vs YP_001039953.1 spike glycoprotein [Tylonycteris bat coronavirus HKU4]\n",
      "Score: 2188.0\n",
      "\n"
     ]
    }
   ],
   "source": [
    "for e in range(1, len(multi_fasta)):\n",
    "    print (\"Overall comparison of the sequences:\", multi_fasta[0].description, \"vs\", multi_fasta[e].description)\n",
    "    print (\"Score:\", globalAlignment(multi_fasta[0].seq, multi_fasta[e].seq, pam250, -4)[2])\n",
    "    print ()\n",
    "    \n",
    "for e in range(1, len(multi_fasta)):\n",
    "    print (\"Overall comparison of the sequences using pairwise2:\", multi_fasta[0].description, \"vs\", multi_fasta[e].description)\n",
    "    print (\"Score:\", pairwise2.align.globalds(multi_fasta[0].seq, multi_fasta[e].seq, match_dict = pam250, open=-4, extend=-4, score_only=True))\n",
    "    print ()\n",
    "\n",
    "# As can be seen in the results, the comparison with the highest score is for the bat coronavirus, which means that it has a \n",
    "# higher similarity to the Covid-2 protein S sequence."
   ]
  },
  {
   "cell_type": "code",
   "execution_count": 17,
   "id": "ff1109b8",
   "metadata": {
    "scrolled": true
   },
   "outputs": [
    {
     "name": "stdout",
     "output_type": "stream",
     "text": [
      "Overall comparison of the sequences: YP_009724390.1 surface glycoprotein [Severe acute respiratory syndrome coronavirus 2] vs YP_173238.1 spike glycoprotein [Human coronavirus HKU1]\n",
      "Score: 1544.0\n",
      "\n",
      "Overall comparison of the sequences: YP_009724390.1 surface glycoprotein [Severe acute respiratory syndrome coronavirus 2] vs YP_001039953.1 spike glycoprotein [Tylonycteris bat coronavirus HKU4]\n",
      "Score: 1783.0\n",
      "\n",
      "Overall comparison of the sequences using pairwise2: YP_009724390.1 surface glycoprotein [Severe acute respiratory syndrome coronavirus 2] vs YP_173238.1 spike glycoprotein [Human coronavirus HKU1]\n",
      "Score: 1544.0\n",
      "\n",
      "Overall comparison of the sequences using pairwise2: YP_009724390.1 surface glycoprotein [Severe acute respiratory syndrome coronavirus 2] vs YP_001039953.1 spike glycoprotein [Tylonycteris bat coronavirus HKU4]\n",
      "Score: 1783.0\n",
      "\n"
     ]
    }
   ],
   "source": [
    "for e in range(1, len(multi_fasta)):\n",
    "    print (\"Overall comparison of the sequences:\", multi_fasta[0].description, \"vs\", multi_fasta[e].description)\n",
    "    print (\"Score:\", globalAlignment(multi_fasta[0].seq, multi_fasta[e].seq, blosum62, -4)[2])\n",
    "    print ()\n",
    "    \n",
    "for e in range(1, len(multi_fasta)):\n",
    "    print (\"Overall comparison of the sequences using pairwise2:\", multi_fasta[0].description, \"vs\", multi_fasta[e].description)\n",
    "    print (\"Score:\", pairwise2.align.globalds(multi_fasta[0].seq, multi_fasta[e].seq, match_dict = blosum62, open=-4, extend=-4, score_only=True))\n",
    "    print ()\n",
    "    \n",
    "# In this case, the S protein with the highest similarity is again from the same coronavirus, the bat coronavirus, as in the \n",
    "# rest of the conditions for both the local and global alignment, the substitution matrices pam250 and blosum62, and the \n",
    "# different values for the gap substitutions.\n",
    "\n",
    "# These results make sense because, as we have seen, these two proteins are the most similar and are more likely to obtain \n",
    "# higher scores for both global and local alignments.\n",
    "\n",
    "# On the other hand, we can see the change in scores when using different substitution matrices, with pam250 getting the \n",
    "# highest scores. This is due to the fact that the blosum62 matrix is used for sequences with less evolutionary divergence \n",
    "# time than the pam250, and it is characterised by being a more restrictive and specific matrix, penalizing more substitutions\n",
    "# between amino acids that are less common in conserved sequences."
   ]
  },
  {
   "cell_type": "code",
   "execution_count": 18,
   "id": "1f4ee7e7",
   "metadata": {
    "scrolled": true
   },
   "outputs": [
    {
     "name": "stdout",
     "output_type": "stream",
     "text": [
      "Overall comparison of the sequences: YP_009724390.1 surface glycoprotein [Severe acute respiratory syndrome coronavirus 2] vs YP_173238.1 spike glycoprotein [Human coronavirus HKU1]\n",
      "Score: 2117.0\n",
      "\n",
      "Overall comparison of the sequences: YP_009724390.1 surface glycoprotein [Severe acute respiratory syndrome coronavirus 2] vs YP_001039953.1 spike glycoprotein [Tylonycteris bat coronavirus HKU4]\n",
      "Score: 2301.0\n",
      "\n",
      "Overall comparison of the sequences using pairwise2: YP_009724390.1 surface glycoprotein [Severe acute respiratory syndrome coronavirus 2] vs YP_173238.1 spike glycoprotein [Human coronavirus HKU1]\n",
      "Score: 2117.0\n",
      "\n",
      "Overall comparison of the sequences using pairwise2: YP_009724390.1 surface glycoprotein [Severe acute respiratory syndrome coronavirus 2] vs YP_001039953.1 spike glycoprotein [Tylonycteris bat coronavirus HKU4]\n",
      "Score: 2301.0\n",
      "\n"
     ]
    }
   ],
   "source": [
    "for e in range(1, len(multi_fasta)):\n",
    "    print (\"Overall comparison of the sequences:\", multi_fasta[0].description, \"vs\", multi_fasta[e].description)\n",
    "    print (\"Score:\", globalAlignment(multi_fasta[0].seq, multi_fasta[e].seq, blosum62, -2)[2])\n",
    "    print ()\n",
    "    \n",
    "for e in range(1, len(multi_fasta)):\n",
    "    print (\"Overall comparison of the sequences using pairwise2:\", multi_fasta[0].description, \"vs\", multi_fasta[e].description)\n",
    "    print (\"Score:\", pairwise2.align.globalds(multi_fasta[0].seq, multi_fasta[e].seq, match_dict = blosum62, open=-2, extend=-2, score_only=True))\n",
    "    print ()\n",
    "    \n",
    "# If you look at it, the difference with the previous functions is that we now decrease the value of the penalties, which \n",
    "# leads to an increase in the scores."
   ]
  },
  {
   "cell_type": "code",
   "execution_count": 19,
   "id": "7135bfdd",
   "metadata": {},
   "outputs": [
    {
     "name": "stdout",
     "output_type": "stream",
     "text": [
      "Local comparison of the sequences: YP_009724390.1 surface glycoprotein [Severe acute respiratory syndrome coronavirus 2] vs YP_173238.1 spike glycoprotein [Human coronavirus HKU1]\n",
      "Score: 2032.0\n",
      "\n",
      "Local comparison of the sequences: YP_009724390.1 surface glycoprotein [Severe acute respiratory syndrome coronavirus 2] vs YP_001039953.1 spike glycoprotein [Tylonycteris bat coronavirus HKU4]\n",
      "Score: 2226.0\n",
      "\n",
      "Local comparison of the sequences using pairwise2: YP_009724390.1 surface glycoprotein [Severe acute respiratory syndrome coronavirus 2] vs YP_173238.1 spike glycoprotein [Human coronavirus HKU1]\n",
      "Score: 2032.0\n",
      "\n",
      "Local comparison of the sequences using pairwise2: YP_009724390.1 surface glycoprotein [Severe acute respiratory syndrome coronavirus 2] vs YP_001039953.1 spike glycoprotein [Tylonycteris bat coronavirus HKU4]\n",
      "Score: 2226.0\n",
      "\n"
     ]
    }
   ],
   "source": [
    "for e in range(1, len(multi_fasta)):\n",
    "    print (\"Local comparison of the sequences:\", multi_fasta[0].description, \"vs\", multi_fasta[e].description)\n",
    "    print (\"Score:\", localAlignment(multi_fasta[0].seq, multi_fasta[e].seq, pam250, -4)[2])\n",
    "    print ()\n",
    "    \n",
    "for e in range(1, len(multi_fasta)):\n",
    "    print (\"Local comparison of the sequences using pairwise2:\", multi_fasta[0].description, \"vs\", multi_fasta[e].description)\n",
    "    print (\"Score:\", pairwise2.align.localds(multi_fasta[0].seq, multi_fasta[e].seq, match_dict = pam250, open=-4, extend=-4, score_only=True))\n",
    "    print ()"
   ]
  },
  {
   "cell_type": "code",
   "execution_count": 20,
   "id": "9dd662e6",
   "metadata": {},
   "outputs": [
    {
     "name": "stdout",
     "output_type": "stream",
     "text": [
      "Local comparison of the sequences: YP_009724390.1 surface glycoprotein [Severe acute respiratory syndrome coronavirus 2] vs YP_173238.1 spike glycoprotein [Human coronavirus HKU1]\n",
      "Score: 1550.0\n",
      "\n",
      "Local comparison of the sequences: YP_009724390.1 surface glycoprotein [Severe acute respiratory syndrome coronavirus 2] vs YP_001039953.1 spike glycoprotein [Tylonycteris bat coronavirus HKU4]\n",
      "Score: 1832.0\n",
      "\n",
      "Local comparison of the sequences using pairwise2: YP_009724390.1 surface glycoprotein [Severe acute respiratory syndrome coronavirus 2] vs YP_173238.1 spike glycoprotein [Human coronavirus HKU1]\n",
      "Score: 1550.0\n",
      "\n",
      "Local comparison of the sequences using pairwise2: YP_009724390.1 surface glycoprotein [Severe acute respiratory syndrome coronavirus 2] vs YP_001039953.1 spike glycoprotein [Tylonycteris bat coronavirus HKU4]\n",
      "Score: 1832.0\n",
      "\n"
     ]
    }
   ],
   "source": [
    "for e in range(1, len(multi_fasta)):\n",
    "    print (\"Local comparison of the sequences:\", multi_fasta[0].description, \"vs\", multi_fasta[e].description)\n",
    "    print (\"Score:\", localAlignment(multi_fasta[0].seq, multi_fasta[e].seq, blosum62, -4)[2])\n",
    "    print ()\n",
    "    \n",
    "for e in range(1, len(multi_fasta)):\n",
    "    print (\"Local comparison of the sequences using pairwise2:\", multi_fasta[0].description, \"vs\", multi_fasta[e].description)\n",
    "    print (\"Score:\", pairwise2.align.localds(multi_fasta[0].seq, multi_fasta[e].seq, match_dict = blosum62, open=-4, extend=-4, score_only=True))\n",
    "    print ()"
   ]
  },
  {
   "cell_type": "code",
   "execution_count": 21,
   "id": "ebaeb531",
   "metadata": {},
   "outputs": [
    {
     "name": "stdout",
     "output_type": "stream",
     "text": [
      "Local comparison of the sequences: YP_009724390.1 surface glycoprotein [Severe acute respiratory syndrome coronavirus 2] vs YP_173238.1 spike glycoprotein [Human coronavirus HKU1]\n",
      "Score: 2122.0\n",
      "\n",
      "Local comparison of the sequences: YP_009724390.1 surface glycoprotein [Severe acute respiratory syndrome coronavirus 2] vs YP_001039953.1 spike glycoprotein [Tylonycteris bat coronavirus HKU4]\n",
      "Score: 2316.0\n",
      "\n",
      "Local comparison of the sequences using pairwise2: YP_009724390.1 surface glycoprotein [Severe acute respiratory syndrome coronavirus 2] vs YP_173238.1 spike glycoprotein [Human coronavirus HKU1]\n",
      "Score: 2122.0\n",
      "\n",
      "Local comparison of the sequences using pairwise2: YP_009724390.1 surface glycoprotein [Severe acute respiratory syndrome coronavirus 2] vs YP_001039953.1 spike glycoprotein [Tylonycteris bat coronavirus HKU4]\n",
      "Score: 2316.0\n",
      "\n"
     ]
    }
   ],
   "source": [
    "for e in range(1, len(multi_fasta)):\n",
    "    print (\"Local comparison of the sequences:\", multi_fasta[0].description, \"vs\", multi_fasta[e].description)\n",
    "    print (\"Score:\", localAlignment(multi_fasta[0].seq, multi_fasta[e].seq, blosum62, -2)[2])\n",
    "    print ()\n",
    "    \n",
    "for e in range(1, len(multi_fasta)):\n",
    "    print (\"Local comparison of the sequences using pairwise2:\", multi_fasta[0].description, \"vs\", multi_fasta[e].description)\n",
    "    print (\"Score:\", pairwise2.align.localds(multi_fasta[0].seq, multi_fasta[e].seq, match_dict = blosum62, open=-2, extend=-2, score_only=True))\n",
    "    print ()\n",
    "    \n",
    "# As can be seen from the comparison between the same conditions in local and global alignments, in general, in almost all \n",
    "# conditions tested, the scores of the local alignments are higher than those of the global alignments. This may be because \n",
    "# local alignments tend to give higher scores when comparing sequences with highly conserved regions, indicating that the S \n",
    "# protein has highly conserved regions among the different types of coronavirus compared."
   ]
  }
 ],
 "metadata": {
  "kernelspec": {
   "display_name": "Python 3 (ipykernel)",
   "language": "python",
   "name": "python3"
  },
  "language_info": {
   "codemirror_mode": {
    "name": "ipython",
    "version": 3
   },
   "file_extension": ".py",
   "mimetype": "text/x-python",
   "name": "python",
   "nbconvert_exporter": "python",
   "pygments_lexer": "ipython3",
   "version": "3.11.5"
  }
 },
 "nbformat": 4,
 "nbformat_minor": 5
}
